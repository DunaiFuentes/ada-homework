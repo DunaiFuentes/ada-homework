{
 "cells": [
  {
   "cell_type": "markdown",
   "metadata": {},
   "source": [
    "# Applied ML"
   ]
  },
  {
   "cell_type": "markdown",
   "metadata": {},
   "source": [
    "We will apply Machine Learning to an interesting dataset about soccer players and referees.\n",
    "The work will be divided in two parts, first a pre-processing + visualization pipeline to get comfortable with the data, and finally the prediction tasks, where the color of the skin of players will be inferered from other different parameters (features)."
   ]
  },
  {
   "cell_type": "code",
   "execution_count": 441,
   "metadata": {
    "collapsed": false
   },
   "outputs": [],
   "source": [
    "# A number of libraries will be used:\n",
    "import pandas as pd\n",
    "import numpy as np\n",
    "import matplotlib.pyplot as plt\n",
    "%matplotlib inline  "
   ]
  },
  {
   "cell_type": "markdown",
   "metadata": {},
   "source": [
    "## 1. Training a Random Forest Classifier"
   ]
  },
  {
   "cell_type": "markdown",
   "metadata": {},
   "source": [
    "### 1.1 Pre-processing"
   ]
  },
  {
   "cell_type": "code",
   "execution_count": 442,
   "metadata": {
    "collapsed": false
   },
   "outputs": [
    {
     "data": {
      "text/html": [
       "<div>\n",
       "<table border=\"1\" class=\"dataframe\">\n",
       "  <thead>\n",
       "    <tr style=\"text-align: right;\">\n",
       "      <th></th>\n",
       "      <th>playerShort</th>\n",
       "      <th>player</th>\n",
       "      <th>club</th>\n",
       "      <th>leagueCountry</th>\n",
       "      <th>birthday</th>\n",
       "      <th>height</th>\n",
       "      <th>weight</th>\n",
       "      <th>position</th>\n",
       "      <th>games</th>\n",
       "      <th>victories</th>\n",
       "      <th>...</th>\n",
       "      <th>rater2</th>\n",
       "      <th>refNum</th>\n",
       "      <th>refCountry</th>\n",
       "      <th>Alpha_3</th>\n",
       "      <th>meanIAT</th>\n",
       "      <th>nIAT</th>\n",
       "      <th>seIAT</th>\n",
       "      <th>meanExp</th>\n",
       "      <th>nExp</th>\n",
       "      <th>seExp</th>\n",
       "    </tr>\n",
       "  </thead>\n",
       "  <tbody>\n",
       "    <tr>\n",
       "      <th>0</th>\n",
       "      <td>lucas-wilchez</td>\n",
       "      <td>Lucas Wilchez</td>\n",
       "      <td>Real Zaragoza</td>\n",
       "      <td>Spain</td>\n",
       "      <td>31.08.1983</td>\n",
       "      <td>177.0</td>\n",
       "      <td>72.0</td>\n",
       "      <td>Attacking Midfielder</td>\n",
       "      <td>1</td>\n",
       "      <td>0</td>\n",
       "      <td>...</td>\n",
       "      <td>0.50</td>\n",
       "      <td>1</td>\n",
       "      <td>1</td>\n",
       "      <td>GRC</td>\n",
       "      <td>0.326391</td>\n",
       "      <td>712.0</td>\n",
       "      <td>0.000564</td>\n",
       "      <td>0.396000</td>\n",
       "      <td>750.0</td>\n",
       "      <td>0.002696</td>\n",
       "    </tr>\n",
       "    <tr>\n",
       "      <th>1</th>\n",
       "      <td>john-utaka</td>\n",
       "      <td>John Utaka</td>\n",
       "      <td>Montpellier HSC</td>\n",
       "      <td>France</td>\n",
       "      <td>08.01.1982</td>\n",
       "      <td>179.0</td>\n",
       "      <td>82.0</td>\n",
       "      <td>Right Winger</td>\n",
       "      <td>1</td>\n",
       "      <td>0</td>\n",
       "      <td>...</td>\n",
       "      <td>0.75</td>\n",
       "      <td>2</td>\n",
       "      <td>2</td>\n",
       "      <td>ZMB</td>\n",
       "      <td>0.203375</td>\n",
       "      <td>40.0</td>\n",
       "      <td>0.010875</td>\n",
       "      <td>-0.204082</td>\n",
       "      <td>49.0</td>\n",
       "      <td>0.061504</td>\n",
       "    </tr>\n",
       "    <tr>\n",
       "      <th>2</th>\n",
       "      <td>abdon-prats</td>\n",
       "      <td>Abdón Prats</td>\n",
       "      <td>RCD Mallorca</td>\n",
       "      <td>Spain</td>\n",
       "      <td>17.12.1992</td>\n",
       "      <td>181.0</td>\n",
       "      <td>79.0</td>\n",
       "      <td>NaN</td>\n",
       "      <td>1</td>\n",
       "      <td>0</td>\n",
       "      <td>...</td>\n",
       "      <td>NaN</td>\n",
       "      <td>3</td>\n",
       "      <td>3</td>\n",
       "      <td>ESP</td>\n",
       "      <td>0.369894</td>\n",
       "      <td>1785.0</td>\n",
       "      <td>0.000229</td>\n",
       "      <td>0.588297</td>\n",
       "      <td>1897.0</td>\n",
       "      <td>0.001002</td>\n",
       "    </tr>\n",
       "    <tr>\n",
       "      <th>3</th>\n",
       "      <td>pablo-mari</td>\n",
       "      <td>Pablo Marí</td>\n",
       "      <td>RCD Mallorca</td>\n",
       "      <td>Spain</td>\n",
       "      <td>31.08.1993</td>\n",
       "      <td>191.0</td>\n",
       "      <td>87.0</td>\n",
       "      <td>Center Back</td>\n",
       "      <td>1</td>\n",
       "      <td>1</td>\n",
       "      <td>...</td>\n",
       "      <td>NaN</td>\n",
       "      <td>3</td>\n",
       "      <td>3</td>\n",
       "      <td>ESP</td>\n",
       "      <td>0.369894</td>\n",
       "      <td>1785.0</td>\n",
       "      <td>0.000229</td>\n",
       "      <td>0.588297</td>\n",
       "      <td>1897.0</td>\n",
       "      <td>0.001002</td>\n",
       "    </tr>\n",
       "    <tr>\n",
       "      <th>4</th>\n",
       "      <td>ruben-pena</td>\n",
       "      <td>Rubén Peña</td>\n",
       "      <td>Real Valladolid</td>\n",
       "      <td>Spain</td>\n",
       "      <td>18.07.1991</td>\n",
       "      <td>172.0</td>\n",
       "      <td>70.0</td>\n",
       "      <td>Right Midfielder</td>\n",
       "      <td>1</td>\n",
       "      <td>1</td>\n",
       "      <td>...</td>\n",
       "      <td>NaN</td>\n",
       "      <td>3</td>\n",
       "      <td>3</td>\n",
       "      <td>ESP</td>\n",
       "      <td>0.369894</td>\n",
       "      <td>1785.0</td>\n",
       "      <td>0.000229</td>\n",
       "      <td>0.588297</td>\n",
       "      <td>1897.0</td>\n",
       "      <td>0.001002</td>\n",
       "    </tr>\n",
       "  </tbody>\n",
       "</table>\n",
       "<p>5 rows × 28 columns</p>\n",
       "</div>"
      ],
      "text/plain": [
       "     playerShort         player             club leagueCountry    birthday  \\\n",
       "0  lucas-wilchez  Lucas Wilchez    Real Zaragoza         Spain  31.08.1983   \n",
       "1     john-utaka     John Utaka  Montpellier HSC        France  08.01.1982   \n",
       "2    abdon-prats    Abdón Prats     RCD Mallorca         Spain  17.12.1992   \n",
       "3     pablo-mari     Pablo Marí     RCD Mallorca         Spain  31.08.1993   \n",
       "4     ruben-pena     Rubén Peña  Real Valladolid         Spain  18.07.1991   \n",
       "\n",
       "   height  weight              position  games  victories    ...     rater2  \\\n",
       "0   177.0    72.0  Attacking Midfielder      1          0    ...       0.50   \n",
       "1   179.0    82.0          Right Winger      1          0    ...       0.75   \n",
       "2   181.0    79.0                   NaN      1          0    ...        NaN   \n",
       "3   191.0    87.0           Center Back      1          1    ...        NaN   \n",
       "4   172.0    70.0      Right Midfielder      1          1    ...        NaN   \n",
       "\n",
       "   refNum  refCountry  Alpha_3   meanIAT    nIAT     seIAT   meanExp    nExp  \\\n",
       "0       1           1      GRC  0.326391   712.0  0.000564  0.396000   750.0   \n",
       "1       2           2      ZMB  0.203375    40.0  0.010875 -0.204082    49.0   \n",
       "2       3           3      ESP  0.369894  1785.0  0.000229  0.588297  1897.0   \n",
       "3       3           3      ESP  0.369894  1785.0  0.000229  0.588297  1897.0   \n",
       "4       3           3      ESP  0.369894  1785.0  0.000229  0.588297  1897.0   \n",
       "\n",
       "      seExp  \n",
       "0  0.002696  \n",
       "1  0.061504  \n",
       "2  0.001002  \n",
       "3  0.001002  \n",
       "4  0.001002  \n",
       "\n",
       "[5 rows x 28 columns]"
      ]
     },
     "execution_count": 442,
     "metadata": {},
     "output_type": "execute_result"
    }
   ],
   "source": [
    "#Loading the data to a DataFrame\n",
    "df = pd.read_csv('CrowdstormingDataJuly1st.csv')\n",
    "df.head()"
   ]
  },
  {
   "cell_type": "code",
   "execution_count": 443,
   "metadata": {
    "collapsed": false
   },
   "outputs": [
    {
     "name": "stderr",
     "output_type": "stream",
     "text": [
      "/Users/nesara/anaconda/lib/python3.5/site-packages/numpy/lib/function_base.py:3834: RuntimeWarning: Invalid value encountered in percentile\n",
      "  RuntimeWarning)\n"
     ]
    },
    {
     "data": {
      "text/html": [
       "<div>\n",
       "<table border=\"1\" class=\"dataframe\">\n",
       "  <thead>\n",
       "    <tr style=\"text-align: right;\">\n",
       "      <th></th>\n",
       "      <th>height</th>\n",
       "      <th>weight</th>\n",
       "      <th>games</th>\n",
       "      <th>victories</th>\n",
       "      <th>ties</th>\n",
       "      <th>defeats</th>\n",
       "      <th>goals</th>\n",
       "      <th>yellowCards</th>\n",
       "      <th>yellowReds</th>\n",
       "      <th>redCards</th>\n",
       "      <th>rater1</th>\n",
       "      <th>rater2</th>\n",
       "      <th>refNum</th>\n",
       "      <th>refCountry</th>\n",
       "      <th>meanIAT</th>\n",
       "      <th>nIAT</th>\n",
       "      <th>seIAT</th>\n",
       "      <th>meanExp</th>\n",
       "      <th>nExp</th>\n",
       "      <th>seExp</th>\n",
       "    </tr>\n",
       "  </thead>\n",
       "  <tbody>\n",
       "    <tr>\n",
       "      <th>count</th>\n",
       "      <td>145765.000000</td>\n",
       "      <td>143785.000000</td>\n",
       "      <td>146028.000000</td>\n",
       "      <td>146028.000000</td>\n",
       "      <td>146028.000000</td>\n",
       "      <td>146028.000000</td>\n",
       "      <td>146028.000000</td>\n",
       "      <td>146028.000000</td>\n",
       "      <td>146028.000000</td>\n",
       "      <td>146028.000000</td>\n",
       "      <td>124621.000000</td>\n",
       "      <td>124621.000000</td>\n",
       "      <td>146028.000000</td>\n",
       "      <td>146028.000000</td>\n",
       "      <td>145865.000000</td>\n",
       "      <td>1.458650e+05</td>\n",
       "      <td>1.458650e+05</td>\n",
       "      <td>145865.000000</td>\n",
       "      <td>1.458650e+05</td>\n",
       "      <td>145865.000000</td>\n",
       "    </tr>\n",
       "    <tr>\n",
       "      <th>mean</th>\n",
       "      <td>181.935938</td>\n",
       "      <td>76.075662</td>\n",
       "      <td>2.921166</td>\n",
       "      <td>1.278344</td>\n",
       "      <td>0.708241</td>\n",
       "      <td>0.934581</td>\n",
       "      <td>0.338058</td>\n",
       "      <td>0.385364</td>\n",
       "      <td>0.011381</td>\n",
       "      <td>0.012559</td>\n",
       "      <td>0.264255</td>\n",
       "      <td>0.302862</td>\n",
       "      <td>1534.827444</td>\n",
       "      <td>29.642842</td>\n",
       "      <td>0.346276</td>\n",
       "      <td>1.969741e+04</td>\n",
       "      <td>6.310849e-04</td>\n",
       "      <td>0.452026</td>\n",
       "      <td>2.044023e+04</td>\n",
       "      <td>0.002994</td>\n",
       "    </tr>\n",
       "    <tr>\n",
       "      <th>std</th>\n",
       "      <td>6.738726</td>\n",
       "      <td>7.140906</td>\n",
       "      <td>3.413633</td>\n",
       "      <td>1.790725</td>\n",
       "      <td>1.116793</td>\n",
       "      <td>1.383059</td>\n",
       "      <td>0.906481</td>\n",
       "      <td>0.795333</td>\n",
       "      <td>0.107931</td>\n",
       "      <td>0.112889</td>\n",
       "      <td>0.295382</td>\n",
       "      <td>0.293020</td>\n",
       "      <td>918.736625</td>\n",
       "      <td>27.496189</td>\n",
       "      <td>0.032246</td>\n",
       "      <td>1.271262e+05</td>\n",
       "      <td>4.735857e-03</td>\n",
       "      <td>0.217469</td>\n",
       "      <td>1.306157e+05</td>\n",
       "      <td>0.019723</td>\n",
       "    </tr>\n",
       "    <tr>\n",
       "      <th>min</th>\n",
       "      <td>161.000000</td>\n",
       "      <td>54.000000</td>\n",
       "      <td>1.000000</td>\n",
       "      <td>0.000000</td>\n",
       "      <td>0.000000</td>\n",
       "      <td>0.000000</td>\n",
       "      <td>0.000000</td>\n",
       "      <td>0.000000</td>\n",
       "      <td>0.000000</td>\n",
       "      <td>0.000000</td>\n",
       "      <td>0.000000</td>\n",
       "      <td>0.000000</td>\n",
       "      <td>1.000000</td>\n",
       "      <td>1.000000</td>\n",
       "      <td>-0.047254</td>\n",
       "      <td>2.000000e+00</td>\n",
       "      <td>2.235373e-07</td>\n",
       "      <td>-1.375000</td>\n",
       "      <td>2.000000e+00</td>\n",
       "      <td>0.000001</td>\n",
       "    </tr>\n",
       "    <tr>\n",
       "      <th>25%</th>\n",
       "      <td>NaN</td>\n",
       "      <td>NaN</td>\n",
       "      <td>1.000000</td>\n",
       "      <td>0.000000</td>\n",
       "      <td>0.000000</td>\n",
       "      <td>0.000000</td>\n",
       "      <td>0.000000</td>\n",
       "      <td>0.000000</td>\n",
       "      <td>0.000000</td>\n",
       "      <td>0.000000</td>\n",
       "      <td>NaN</td>\n",
       "      <td>NaN</td>\n",
       "      <td>641.000000</td>\n",
       "      <td>7.000000</td>\n",
       "      <td>NaN</td>\n",
       "      <td>NaN</td>\n",
       "      <td>NaN</td>\n",
       "      <td>NaN</td>\n",
       "      <td>NaN</td>\n",
       "      <td>NaN</td>\n",
       "    </tr>\n",
       "    <tr>\n",
       "      <th>50%</th>\n",
       "      <td>NaN</td>\n",
       "      <td>NaN</td>\n",
       "      <td>2.000000</td>\n",
       "      <td>1.000000</td>\n",
       "      <td>0.000000</td>\n",
       "      <td>1.000000</td>\n",
       "      <td>0.000000</td>\n",
       "      <td>0.000000</td>\n",
       "      <td>0.000000</td>\n",
       "      <td>0.000000</td>\n",
       "      <td>NaN</td>\n",
       "      <td>NaN</td>\n",
       "      <td>1604.000000</td>\n",
       "      <td>21.000000</td>\n",
       "      <td>NaN</td>\n",
       "      <td>NaN</td>\n",
       "      <td>NaN</td>\n",
       "      <td>NaN</td>\n",
       "      <td>NaN</td>\n",
       "      <td>NaN</td>\n",
       "    </tr>\n",
       "    <tr>\n",
       "      <th>75%</th>\n",
       "      <td>NaN</td>\n",
       "      <td>NaN</td>\n",
       "      <td>3.000000</td>\n",
       "      <td>2.000000</td>\n",
       "      <td>1.000000</td>\n",
       "      <td>1.000000</td>\n",
       "      <td>0.000000</td>\n",
       "      <td>1.000000</td>\n",
       "      <td>0.000000</td>\n",
       "      <td>0.000000</td>\n",
       "      <td>NaN</td>\n",
       "      <td>NaN</td>\n",
       "      <td>2345.000000</td>\n",
       "      <td>44.000000</td>\n",
       "      <td>NaN</td>\n",
       "      <td>NaN</td>\n",
       "      <td>NaN</td>\n",
       "      <td>NaN</td>\n",
       "      <td>NaN</td>\n",
       "      <td>NaN</td>\n",
       "    </tr>\n",
       "    <tr>\n",
       "      <th>max</th>\n",
       "      <td>203.000000</td>\n",
       "      <td>100.000000</td>\n",
       "      <td>47.000000</td>\n",
       "      <td>29.000000</td>\n",
       "      <td>14.000000</td>\n",
       "      <td>18.000000</td>\n",
       "      <td>23.000000</td>\n",
       "      <td>14.000000</td>\n",
       "      <td>3.000000</td>\n",
       "      <td>2.000000</td>\n",
       "      <td>1.000000</td>\n",
       "      <td>1.000000</td>\n",
       "      <td>3147.000000</td>\n",
       "      <td>161.000000</td>\n",
       "      <td>0.573793</td>\n",
       "      <td>1.975803e+06</td>\n",
       "      <td>2.862871e-01</td>\n",
       "      <td>1.800000</td>\n",
       "      <td>2.029548e+06</td>\n",
       "      <td>1.060660</td>\n",
       "    </tr>\n",
       "  </tbody>\n",
       "</table>\n",
       "</div>"
      ],
      "text/plain": [
       "              height         weight          games      victories  \\\n",
       "count  145765.000000  143785.000000  146028.000000  146028.000000   \n",
       "mean      181.935938      76.075662       2.921166       1.278344   \n",
       "std         6.738726       7.140906       3.413633       1.790725   \n",
       "min       161.000000      54.000000       1.000000       0.000000   \n",
       "25%              NaN            NaN       1.000000       0.000000   \n",
       "50%              NaN            NaN       2.000000       1.000000   \n",
       "75%              NaN            NaN       3.000000       2.000000   \n",
       "max       203.000000     100.000000      47.000000      29.000000   \n",
       "\n",
       "                ties        defeats          goals    yellowCards  \\\n",
       "count  146028.000000  146028.000000  146028.000000  146028.000000   \n",
       "mean        0.708241       0.934581       0.338058       0.385364   \n",
       "std         1.116793       1.383059       0.906481       0.795333   \n",
       "min         0.000000       0.000000       0.000000       0.000000   \n",
       "25%         0.000000       0.000000       0.000000       0.000000   \n",
       "50%         0.000000       1.000000       0.000000       0.000000   \n",
       "75%         1.000000       1.000000       0.000000       1.000000   \n",
       "max        14.000000      18.000000      23.000000      14.000000   \n",
       "\n",
       "          yellowReds       redCards         rater1         rater2  \\\n",
       "count  146028.000000  146028.000000  124621.000000  124621.000000   \n",
       "mean        0.011381       0.012559       0.264255       0.302862   \n",
       "std         0.107931       0.112889       0.295382       0.293020   \n",
       "min         0.000000       0.000000       0.000000       0.000000   \n",
       "25%         0.000000       0.000000            NaN            NaN   \n",
       "50%         0.000000       0.000000            NaN            NaN   \n",
       "75%         0.000000       0.000000            NaN            NaN   \n",
       "max         3.000000       2.000000       1.000000       1.000000   \n",
       "\n",
       "              refNum     refCountry        meanIAT          nIAT  \\\n",
       "count  146028.000000  146028.000000  145865.000000  1.458650e+05   \n",
       "mean     1534.827444      29.642842       0.346276  1.969741e+04   \n",
       "std       918.736625      27.496189       0.032246  1.271262e+05   \n",
       "min         1.000000       1.000000      -0.047254  2.000000e+00   \n",
       "25%       641.000000       7.000000            NaN           NaN   \n",
       "50%      1604.000000      21.000000            NaN           NaN   \n",
       "75%      2345.000000      44.000000            NaN           NaN   \n",
       "max      3147.000000     161.000000       0.573793  1.975803e+06   \n",
       "\n",
       "              seIAT        meanExp          nExp          seExp  \n",
       "count  1.458650e+05  145865.000000  1.458650e+05  145865.000000  \n",
       "mean   6.310849e-04       0.452026  2.044023e+04       0.002994  \n",
       "std    4.735857e-03       0.217469  1.306157e+05       0.019723  \n",
       "min    2.235373e-07      -1.375000  2.000000e+00       0.000001  \n",
       "25%             NaN            NaN           NaN            NaN  \n",
       "50%             NaN            NaN           NaN            NaN  \n",
       "75%             NaN            NaN           NaN            NaN  \n",
       "max    2.862871e-01       1.800000  2.029548e+06       1.060660  "
      ]
     },
     "execution_count": 443,
     "metadata": {},
     "output_type": "execute_result"
    }
   ],
   "source": [
    "# Just by descibing the data we notice how incomplete it is\n",
    "df.describe()"
   ]
  },
  {
   "cell_type": "markdown",
   "metadata": {
    "collapsed": true
   },
   "source": [
    "Having in mind that our final goal is to predict the skintone, we can already get rid of all the rows that don't have this. Also we need to create an aggregate of the two raters scores to act as our labels for classification."
   ]
  },
  {
   "cell_type": "code",
   "execution_count": 444,
   "metadata": {
    "collapsed": false
   },
   "outputs": [
    {
     "name": "stderr",
     "output_type": "stream",
     "text": [
      "/Users/nesara/anaconda/lib/python3.5/site-packages/ipykernel/__main__.py:3: SettingWithCopyWarning: \n",
      "A value is trying to be set on a copy of a slice from a DataFrame.\n",
      "Try using .loc[row_indexer,col_indexer] = value instead\n",
      "\n",
      "See the caveats in the documentation: http://pandas.pydata.org/pandas-docs/stable/indexing.html#indexing-view-versus-copy\n",
      "  app.launch_new_instance()\n",
      "/Users/nesara/anaconda/lib/python3.5/site-packages/ipykernel/__main__.py:4: SettingWithCopyWarning: \n",
      "A value is trying to be set on a copy of a slice from a DataFrame.\n",
      "Try using .loc[row_indexer,col_indexer] = value instead\n",
      "\n",
      "See the caveats in the documentation: http://pandas.pydata.org/pandas-docs/stable/indexing.html#indexing-view-versus-copy\n"
     ]
    },
    {
     "data": {
      "text/plain": [
       "0.0    104714\n",
       "1.0     19907\n",
       "Name: Skintone, dtype: int64"
      ]
     },
     "execution_count": 444,
     "metadata": {},
     "output_type": "execute_result"
    }
   ],
   "source": [
    "df1 = df.dropna(axis=0, subset=['rater1', 'rater2'], how='any')\n",
    "\n",
    "df1['Skintone']= np.round((df1['rater1'] + df1['rater2'])/2)\n",
    "df1['Skintone_avg']= (df1['rater1'] + df1['rater2'])/2\n",
    "df1.Skintone.value_counts()"
   ]
  },
  {
   "cell_type": "markdown",
   "metadata": {},
   "source": [
    "There are many parameters that simply wont help to discriminate between skintone. We can dispose of them."
   ]
  },
  {
   "cell_type": "code",
   "execution_count": 445,
   "metadata": {
    "collapsed": false
   },
   "outputs": [
    {
     "name": "stderr",
     "output_type": "stream",
     "text": [
      "/Users/nesara/anaconda/lib/python3.5/site-packages/ipykernel/__main__.py:1: SettingWithCopyWarning: \n",
      "A value is trying to be set on a copy of a slice from a DataFrame\n",
      "\n",
      "See the caveats in the documentation: http://pandas.pydata.org/pandas-docs/stable/indexing.html#indexing-view-versus-copy\n",
      "  if __name__ == '__main__':\n",
      "/Users/nesara/anaconda/lib/python3.5/site-packages/ipykernel/__main__.py:2: SettingWithCopyWarning: \n",
      "A value is trying to be set on a copy of a slice from a DataFrame\n",
      "\n",
      "See the caveats in the documentation: http://pandas.pydata.org/pandas-docs/stable/indexing.html#indexing-view-versus-copy\n",
      "  from ipykernel import kernelapp as app\n",
      "/Users/nesara/anaconda/lib/python3.5/site-packages/ipykernel/__main__.py:3: SettingWithCopyWarning: \n",
      "A value is trying to be set on a copy of a slice from a DataFrame\n",
      "\n",
      "See the caveats in the documentation: http://pandas.pydata.org/pandas-docs/stable/indexing.html#indexing-view-versus-copy\n",
      "  app.launch_new_instance()\n",
      "/Users/nesara/anaconda/lib/python3.5/site-packages/ipykernel/__main__.py:4: SettingWithCopyWarning: \n",
      "A value is trying to be set on a copy of a slice from a DataFrame\n",
      "\n",
      "See the caveats in the documentation: http://pandas.pydata.org/pandas-docs/stable/indexing.html#indexing-view-versus-copy\n",
      "/Users/nesara/anaconda/lib/python3.5/site-packages/ipykernel/__main__.py:5: SettingWithCopyWarning: \n",
      "A value is trying to be set on a copy of a slice from a DataFrame\n",
      "\n",
      "See the caveats in the documentation: http://pandas.pydata.org/pandas-docs/stable/indexing.html#indexing-view-versus-copy\n",
      "/Users/nesara/anaconda/lib/python3.5/site-packages/ipykernel/__main__.py:6: SettingWithCopyWarning: \n",
      "A value is trying to be set on a copy of a slice from a DataFrame\n",
      "\n",
      "See the caveats in the documentation: http://pandas.pydata.org/pandas-docs/stable/indexing.html#indexing-view-versus-copy\n",
      "/Users/nesara/anaconda/lib/python3.5/site-packages/ipykernel/__main__.py:7: SettingWithCopyWarning: \n",
      "A value is trying to be set on a copy of a slice from a DataFrame\n",
      "\n",
      "See the caveats in the documentation: http://pandas.pydata.org/pandas-docs/stable/indexing.html#indexing-view-versus-copy\n",
      "/Users/nesara/anaconda/lib/python3.5/site-packages/ipykernel/__main__.py:8: SettingWithCopyWarning: \n",
      "A value is trying to be set on a copy of a slice from a DataFrame\n",
      "\n",
      "See the caveats in the documentation: http://pandas.pydata.org/pandas-docs/stable/indexing.html#indexing-view-versus-copy\n",
      "/Users/nesara/anaconda/lib/python3.5/site-packages/ipykernel/__main__.py:9: SettingWithCopyWarning: \n",
      "A value is trying to be set on a copy of a slice from a DataFrame\n",
      "\n",
      "See the caveats in the documentation: http://pandas.pydata.org/pandas-docs/stable/indexing.html#indexing-view-versus-copy\n",
      "/Users/nesara/anaconda/lib/python3.5/site-packages/ipykernel/__main__.py:10: SettingWithCopyWarning: \n",
      "A value is trying to be set on a copy of a slice from a DataFrame\n",
      "\n",
      "See the caveats in the documentation: http://pandas.pydata.org/pandas-docs/stable/indexing.html#indexing-view-versus-copy\n",
      "/Users/nesara/anaconda/lib/python3.5/site-packages/ipykernel/__main__.py:11: SettingWithCopyWarning: \n",
      "A value is trying to be set on a copy of a slice from a DataFrame\n",
      "\n",
      "See the caveats in the documentation: http://pandas.pydata.org/pandas-docs/stable/indexing.html#indexing-view-versus-copy\n",
      "/Users/nesara/anaconda/lib/python3.5/site-packages/ipykernel/__main__.py:12: SettingWithCopyWarning: \n",
      "A value is trying to be set on a copy of a slice from a DataFrame\n",
      "\n",
      "See the caveats in the documentation: http://pandas.pydata.org/pandas-docs/stable/indexing.html#indexing-view-versus-copy\n",
      "/Users/nesara/anaconda/lib/python3.5/site-packages/ipykernel/__main__.py:13: SettingWithCopyWarning: \n",
      "A value is trying to be set on a copy of a slice from a DataFrame\n",
      "\n",
      "See the caveats in the documentation: http://pandas.pydata.org/pandas-docs/stable/indexing.html#indexing-view-versus-copy\n"
     ]
    }
   ],
   "source": [
    "df1.drop('player', axis=1, inplace=True)      #The name is no use, we keep playerShort as the identifier\n",
    "df1.drop('photoID', axis=1, inplace=True)     #Trash\n",
    "df1.drop('rater1', axis=1, inplace=True)      #Not needed anymore\n",
    "df1.drop('rater2', axis=1, inplace=True)      #Not needed anymore\n",
    "df1.drop('refNum', axis=1, inplace=True)      #Referee should be independent or at most correlated through country\n",
    "df1.drop('refCountry', axis=1, inplace=True)  #refCountry because it feels like cheating to look into the country of origin\n",
    "df1.drop('Alpha_3', axis=1, inplace=True)     #Alpha_3 because it feels like cheating to look into the country of origin\n",
    "df1.drop('meanIAT', axis=1, inplace=True)     #Because we are going to group by playerShort and referee data cannot be mixed\n",
    "df1.drop('nIAT', axis=1, inplace=True)        #Because we are going to group by playerShort and referee data cannot be mixed\n",
    "df1.drop('seIAT', axis=1, inplace=True)       #Because we are going to group by playerShort and referee data cannot be mixed\n",
    "df1.drop('meanExp', axis=1, inplace=True)     #Because we are going to group by playerShort and referee data cannot be mixed\n",
    "df1.drop('nExp', axis=1, inplace=True)        #Because we are going to group by playerShort and referee data cannot be mixed\n",
    "df1.drop('seExp', axis=1, inplace=True)       #Because we are going to group by playerShort and referee data cannot be mixed"
   ]
  },
  {
   "cell_type": "code",
   "execution_count": 446,
   "metadata": {
    "collapsed": false
   },
   "outputs": [
    {
     "data": {
      "text/html": [
       "<div>\n",
       "<table border=\"1\" class=\"dataframe\">\n",
       "  <thead>\n",
       "    <tr style=\"text-align: right;\">\n",
       "      <th></th>\n",
       "      <th>playerShort</th>\n",
       "      <th>club</th>\n",
       "      <th>leagueCountry</th>\n",
       "      <th>birthday</th>\n",
       "      <th>height</th>\n",
       "      <th>weight</th>\n",
       "      <th>position</th>\n",
       "      <th>games</th>\n",
       "      <th>victories</th>\n",
       "      <th>ties</th>\n",
       "      <th>defeats</th>\n",
       "      <th>goals</th>\n",
       "      <th>yellowCards</th>\n",
       "      <th>yellowReds</th>\n",
       "      <th>redCards</th>\n",
       "      <th>Skintone</th>\n",
       "      <th>Skintone_avg</th>\n",
       "    </tr>\n",
       "  </thead>\n",
       "  <tbody>\n",
       "    <tr>\n",
       "      <th>0</th>\n",
       "      <td>lucas-wilchez</td>\n",
       "      <td>Real Zaragoza</td>\n",
       "      <td>Spain</td>\n",
       "      <td>31.08.1983</td>\n",
       "      <td>177.0</td>\n",
       "      <td>72.0</td>\n",
       "      <td>Attacking Midfielder</td>\n",
       "      <td>1</td>\n",
       "      <td>0</td>\n",
       "      <td>0</td>\n",
       "      <td>1</td>\n",
       "      <td>0</td>\n",
       "      <td>0</td>\n",
       "      <td>0</td>\n",
       "      <td>0</td>\n",
       "      <td>0.0</td>\n",
       "      <td>0.375</td>\n",
       "    </tr>\n",
       "    <tr>\n",
       "      <th>1</th>\n",
       "      <td>john-utaka</td>\n",
       "      <td>Montpellier HSC</td>\n",
       "      <td>France</td>\n",
       "      <td>08.01.1982</td>\n",
       "      <td>179.0</td>\n",
       "      <td>82.0</td>\n",
       "      <td>Right Winger</td>\n",
       "      <td>1</td>\n",
       "      <td>0</td>\n",
       "      <td>0</td>\n",
       "      <td>1</td>\n",
       "      <td>0</td>\n",
       "      <td>1</td>\n",
       "      <td>0</td>\n",
       "      <td>0</td>\n",
       "      <td>1.0</td>\n",
       "      <td>0.750</td>\n",
       "    </tr>\n",
       "    <tr>\n",
       "      <th>5</th>\n",
       "      <td>aaron-hughes</td>\n",
       "      <td>Fulham FC</td>\n",
       "      <td>England</td>\n",
       "      <td>08.11.1979</td>\n",
       "      <td>182.0</td>\n",
       "      <td>71.0</td>\n",
       "      <td>Center Back</td>\n",
       "      <td>1</td>\n",
       "      <td>0</td>\n",
       "      <td>0</td>\n",
       "      <td>1</td>\n",
       "      <td>0</td>\n",
       "      <td>0</td>\n",
       "      <td>0</td>\n",
       "      <td>0</td>\n",
       "      <td>0.0</td>\n",
       "      <td>0.125</td>\n",
       "    </tr>\n",
       "    <tr>\n",
       "      <th>6</th>\n",
       "      <td>aleksandar-kolarov</td>\n",
       "      <td>Manchester City</td>\n",
       "      <td>England</td>\n",
       "      <td>10.11.1985</td>\n",
       "      <td>187.0</td>\n",
       "      <td>80.0</td>\n",
       "      <td>Left Fullback</td>\n",
       "      <td>1</td>\n",
       "      <td>1</td>\n",
       "      <td>0</td>\n",
       "      <td>0</td>\n",
       "      <td>0</td>\n",
       "      <td>0</td>\n",
       "      <td>0</td>\n",
       "      <td>0</td>\n",
       "      <td>0.0</td>\n",
       "      <td>0.125</td>\n",
       "    </tr>\n",
       "    <tr>\n",
       "      <th>7</th>\n",
       "      <td>alexander-tettey</td>\n",
       "      <td>Norwich City</td>\n",
       "      <td>England</td>\n",
       "      <td>04.04.1986</td>\n",
       "      <td>180.0</td>\n",
       "      <td>68.0</td>\n",
       "      <td>Defensive Midfielder</td>\n",
       "      <td>1</td>\n",
       "      <td>0</td>\n",
       "      <td>0</td>\n",
       "      <td>1</td>\n",
       "      <td>0</td>\n",
       "      <td>0</td>\n",
       "      <td>0</td>\n",
       "      <td>0</td>\n",
       "      <td>1.0</td>\n",
       "      <td>1.000</td>\n",
       "    </tr>\n",
       "  </tbody>\n",
       "</table>\n",
       "</div>"
      ],
      "text/plain": [
       "          playerShort             club leagueCountry    birthday  height  \\\n",
       "0       lucas-wilchez    Real Zaragoza         Spain  31.08.1983   177.0   \n",
       "1          john-utaka  Montpellier HSC        France  08.01.1982   179.0   \n",
       "5        aaron-hughes        Fulham FC       England  08.11.1979   182.0   \n",
       "6  aleksandar-kolarov  Manchester City       England  10.11.1985   187.0   \n",
       "7    alexander-tettey     Norwich City       England  04.04.1986   180.0   \n",
       "\n",
       "   weight              position  games  victories  ties  defeats  goals  \\\n",
       "0    72.0  Attacking Midfielder      1          0     0        1      0   \n",
       "1    82.0          Right Winger      1          0     0        1      0   \n",
       "5    71.0           Center Back      1          0     0        1      0   \n",
       "6    80.0         Left Fullback      1          1     0        0      0   \n",
       "7    68.0  Defensive Midfielder      1          0     0        1      0   \n",
       "\n",
       "   yellowCards  yellowReds  redCards  Skintone  Skintone_avg  \n",
       "0            0           0         0       0.0         0.375  \n",
       "1            1           0         0       1.0         0.750  \n",
       "5            0           0         0       0.0         0.125  \n",
       "6            0           0         0       0.0         0.125  \n",
       "7            0           0         0       1.0         1.000  "
      ]
     },
     "execution_count": 446,
     "metadata": {},
     "output_type": "execute_result"
    }
   ],
   "source": [
    "df1.head()"
   ]
  },
  {
   "cell_type": "code",
   "execution_count": 447,
   "metadata": {
    "collapsed": false
   },
   "outputs": [
    {
     "data": {
      "text/plain": [
       "(124621, 17)"
      ]
     },
     "execution_count": 447,
     "metadata": {},
     "output_type": "execute_result"
    }
   ],
   "source": [
    "df1.shape"
   ]
  },
  {
   "cell_type": "code",
   "execution_count": 448,
   "metadata": {
    "collapsed": false
   },
   "outputs": [
    {
     "data": {
      "text/plain": [
       "(115603, 17)"
      ]
     },
     "execution_count": 448,
     "metadata": {},
     "output_type": "execute_result"
    }
   ],
   "source": [
    "#we eliminate all the rows with missing values of interest\n",
    "df2 = df1.dropna(axis=0, how='any')\n",
    "df2.shape"
   ]
  },
  {
   "cell_type": "markdown",
   "metadata": {},
   "source": [
    "We have trashed around 10% of the data, but we believe it is acceptable as we still have over 100k entries left.\n",
    "\n",
    "Now we will split the data in two, to make the aggregation by player easier. This is done separating sumable feature from those that are not summable. We asumme that the player remains in the same \"club\" (and the same \"leagueCountry\"  consequentially), with the same \"position\" for the entire season (2012-2013). We also assume honesty from the referees (no racism) which leads as to discard all the data related to the referee as it is assumed independent from the skintone."
   ]
  },
  {
   "cell_type": "code",
   "execution_count": 449,
   "metadata": {
    "collapsed": true
   },
   "outputs": [],
   "source": [
    "#In both cases we keep the identifier\n",
    "df_summable = df2.loc[:,[\"playerShort\", \"games\", \"victories\", \"ties\", \"defeats\", \"goals\", \"yellowCards\", \"yellowReds\", \"redCards\"]]\n",
    "df_non_summable = df2.loc[:,[\"playerShort\", \"club\", \"leagueCountry\", \"birthday\", \"height\", \"weight\", \"position\", \"Skintone\", \"Skintone_avg\"]]"
   ]
  },
  {
   "cell_type": "code",
   "execution_count": 450,
   "metadata": {
    "collapsed": false
   },
   "outputs": [
    {
     "data": {
      "text/html": [
       "<div>\n",
       "<table border=\"1\" class=\"dataframe\">\n",
       "  <thead>\n",
       "    <tr style=\"text-align: right;\">\n",
       "      <th></th>\n",
       "      <th>games</th>\n",
       "      <th>victories</th>\n",
       "      <th>ties</th>\n",
       "      <th>defeats</th>\n",
       "      <th>goals</th>\n",
       "      <th>yellowCards</th>\n",
       "      <th>yellowReds</th>\n",
       "      <th>redCards</th>\n",
       "    </tr>\n",
       "    <tr>\n",
       "      <th>playerShort</th>\n",
       "      <th></th>\n",
       "      <th></th>\n",
       "      <th></th>\n",
       "      <th></th>\n",
       "      <th></th>\n",
       "      <th></th>\n",
       "      <th></th>\n",
       "      <th></th>\n",
       "    </tr>\n",
       "  </thead>\n",
       "  <tbody>\n",
       "    <tr>\n",
       "      <th>aaron-hughes</th>\n",
       "      <td>3.939759</td>\n",
       "      <td>1.487952</td>\n",
       "      <td>1.078313</td>\n",
       "      <td>1.373494</td>\n",
       "      <td>0.054217</td>\n",
       "      <td>0.114458</td>\n",
       "      <td>0.000000</td>\n",
       "      <td>0.000000</td>\n",
       "    </tr>\n",
       "    <tr>\n",
       "      <th>aaron-hunt</th>\n",
       "      <td>3.393939</td>\n",
       "      <td>1.424242</td>\n",
       "      <td>0.737374</td>\n",
       "      <td>1.232323</td>\n",
       "      <td>0.626263</td>\n",
       "      <td>0.424242</td>\n",
       "      <td>0.000000</td>\n",
       "      <td>0.010101</td>\n",
       "    </tr>\n",
       "    <tr>\n",
       "      <th>aaron-lennon</th>\n",
       "      <td>4.079208</td>\n",
       "      <td>1.980198</td>\n",
       "      <td>0.960396</td>\n",
       "      <td>1.138614</td>\n",
       "      <td>0.306931</td>\n",
       "      <td>0.108911</td>\n",
       "      <td>0.000000</td>\n",
       "      <td>0.000000</td>\n",
       "    </tr>\n",
       "    <tr>\n",
       "      <th>aaron-ramsey</th>\n",
       "      <td>2.500000</td>\n",
       "      <td>1.442308</td>\n",
       "      <td>0.403846</td>\n",
       "      <td>0.653846</td>\n",
       "      <td>0.375000</td>\n",
       "      <td>0.298077</td>\n",
       "      <td>0.000000</td>\n",
       "      <td>0.009615</td>\n",
       "    </tr>\n",
       "    <tr>\n",
       "      <th>abdelhamid-el-kaoutari</th>\n",
       "      <td>3.351351</td>\n",
       "      <td>1.108108</td>\n",
       "      <td>1.081081</td>\n",
       "      <td>1.162162</td>\n",
       "      <td>0.027027</td>\n",
       "      <td>0.216216</td>\n",
       "      <td>0.108108</td>\n",
       "      <td>0.054054</td>\n",
       "    </tr>\n",
       "  </tbody>\n",
       "</table>\n",
       "</div>"
      ],
      "text/plain": [
       "                           games  victories      ties   defeats     goals  \\\n",
       "playerShort                                                                 \n",
       "aaron-hughes            3.939759   1.487952  1.078313  1.373494  0.054217   \n",
       "aaron-hunt              3.393939   1.424242  0.737374  1.232323  0.626263   \n",
       "aaron-lennon            4.079208   1.980198  0.960396  1.138614  0.306931   \n",
       "aaron-ramsey            2.500000   1.442308  0.403846  0.653846  0.375000   \n",
       "abdelhamid-el-kaoutari  3.351351   1.108108  1.081081  1.162162  0.027027   \n",
       "\n",
       "                        yellowCards  yellowReds  redCards  \n",
       "playerShort                                                \n",
       "aaron-hughes               0.114458    0.000000  0.000000  \n",
       "aaron-hunt                 0.424242    0.000000  0.010101  \n",
       "aaron-lennon               0.108911    0.000000  0.000000  \n",
       "aaron-ramsey               0.298077    0.000000  0.009615  \n",
       "abdelhamid-el-kaoutari     0.216216    0.108108  0.054054  "
      ]
     },
     "execution_count": 450,
     "metadata": {},
     "output_type": "execute_result"
    }
   ],
   "source": [
    "# And addition for the summables\n",
    "df_g_summable = df_summable.groupby(['playerShort']).mean()\n",
    "df_g_summable.head()"
   ]
  },
  {
   "cell_type": "code",
   "execution_count": 451,
   "metadata": {
    "collapsed": false
   },
   "outputs": [
    {
     "data": {
      "text/html": [
       "<div>\n",
       "<table border=\"1\" class=\"dataframe\">\n",
       "  <thead>\n",
       "    <tr style=\"text-align: right;\">\n",
       "      <th></th>\n",
       "      <th>club</th>\n",
       "      <th>leagueCountry</th>\n",
       "      <th>birthday</th>\n",
       "      <th>height</th>\n",
       "      <th>weight</th>\n",
       "      <th>position</th>\n",
       "      <th>Skintone</th>\n",
       "      <th>Skintone_avg</th>\n",
       "    </tr>\n",
       "    <tr>\n",
       "      <th>playerShort</th>\n",
       "      <th></th>\n",
       "      <th></th>\n",
       "      <th></th>\n",
       "      <th></th>\n",
       "      <th></th>\n",
       "      <th></th>\n",
       "      <th></th>\n",
       "      <th></th>\n",
       "    </tr>\n",
       "  </thead>\n",
       "  <tbody>\n",
       "    <tr>\n",
       "      <th>aaron-hughes</th>\n",
       "      <td>Fulham FC</td>\n",
       "      <td>England</td>\n",
       "      <td>08.11.1979</td>\n",
       "      <td>182.0</td>\n",
       "      <td>71.0</td>\n",
       "      <td>Center Back</td>\n",
       "      <td>0.0</td>\n",
       "      <td>0.125</td>\n",
       "    </tr>\n",
       "    <tr>\n",
       "      <th>aaron-hunt</th>\n",
       "      <td>Werder Bremen</td>\n",
       "      <td>Germany</td>\n",
       "      <td>04.09.1986</td>\n",
       "      <td>183.0</td>\n",
       "      <td>73.0</td>\n",
       "      <td>Attacking Midfielder</td>\n",
       "      <td>0.0</td>\n",
       "      <td>0.125</td>\n",
       "    </tr>\n",
       "    <tr>\n",
       "      <th>aaron-lennon</th>\n",
       "      <td>Tottenham Hotspur</td>\n",
       "      <td>England</td>\n",
       "      <td>16.04.1987</td>\n",
       "      <td>165.0</td>\n",
       "      <td>63.0</td>\n",
       "      <td>Right Midfielder</td>\n",
       "      <td>0.0</td>\n",
       "      <td>0.250</td>\n",
       "    </tr>\n",
       "    <tr>\n",
       "      <th>aaron-ramsey</th>\n",
       "      <td>Arsenal FC</td>\n",
       "      <td>England</td>\n",
       "      <td>26.12.1990</td>\n",
       "      <td>178.0</td>\n",
       "      <td>76.0</td>\n",
       "      <td>Center Midfielder</td>\n",
       "      <td>0.0</td>\n",
       "      <td>0.000</td>\n",
       "    </tr>\n",
       "    <tr>\n",
       "      <th>abdelhamid-el-kaoutari</th>\n",
       "      <td>Montpellier HSC</td>\n",
       "      <td>France</td>\n",
       "      <td>17.03.1990</td>\n",
       "      <td>180.0</td>\n",
       "      <td>73.0</td>\n",
       "      <td>Center Back</td>\n",
       "      <td>0.0</td>\n",
       "      <td>0.250</td>\n",
       "    </tr>\n",
       "  </tbody>\n",
       "</table>\n",
       "</div>"
      ],
      "text/plain": [
       "                                     club leagueCountry    birthday  height  \\\n",
       "playerShort                                                                   \n",
       "aaron-hughes                    Fulham FC       England  08.11.1979   182.0   \n",
       "aaron-hunt                  Werder Bremen       Germany  04.09.1986   183.0   \n",
       "aaron-lennon            Tottenham Hotspur       England  16.04.1987   165.0   \n",
       "aaron-ramsey                   Arsenal FC       England  26.12.1990   178.0   \n",
       "abdelhamid-el-kaoutari    Montpellier HSC        France  17.03.1990   180.0   \n",
       "\n",
       "                        weight              position  Skintone  Skintone_avg  \n",
       "playerShort                                                                   \n",
       "aaron-hughes              71.0           Center Back       0.0         0.125  \n",
       "aaron-hunt                73.0  Attacking Midfielder       0.0         0.125  \n",
       "aaron-lennon              63.0      Right Midfielder       0.0         0.250  \n",
       "aaron-ramsey              76.0     Center Midfielder       0.0         0.000  \n",
       "abdelhamid-el-kaoutari    73.0           Center Back       0.0         0.250  "
      ]
     },
     "execution_count": 451,
     "metadata": {},
     "output_type": "execute_result"
    }
   ],
   "source": [
    "# Simply drop duplicates for the non-summables\n",
    "df_g_non_summable = df_non_summable.drop_duplicates(subset='playerShort', keep='first').set_index(['playerShort'])\n",
    "df_g_non_summable.sort_index().head()"
   ]
  },
  {
   "cell_type": "code",
   "execution_count": 452,
   "metadata": {
    "collapsed": false
   },
   "outputs": [
    {
     "name": "stdout",
     "output_type": "stream",
     "text": [
      "(1419, 8)\n",
      "(1419, 8)\n"
     ]
    }
   ],
   "source": [
    "# We check that each has the same number of rows\n",
    "print(df_g_summable.shape)\n",
    "print(df_g_non_summable.shape)"
   ]
  },
  {
   "cell_type": "code",
   "execution_count": 453,
   "metadata": {
    "collapsed": false
   },
   "outputs": [
    {
     "data": {
      "text/html": [
       "<div>\n",
       "<table border=\"1\" class=\"dataframe\">\n",
       "  <thead>\n",
       "    <tr style=\"text-align: right;\">\n",
       "      <th></th>\n",
       "      <th>club</th>\n",
       "      <th>leagueCountry</th>\n",
       "      <th>birthday</th>\n",
       "      <th>height</th>\n",
       "      <th>weight</th>\n",
       "      <th>position</th>\n",
       "      <th>Skintone</th>\n",
       "      <th>Skintone_avg</th>\n",
       "      <th>games</th>\n",
       "      <th>victories</th>\n",
       "      <th>ties</th>\n",
       "      <th>defeats</th>\n",
       "      <th>goals</th>\n",
       "      <th>yellowCards</th>\n",
       "      <th>yellowReds</th>\n",
       "      <th>redCards</th>\n",
       "    </tr>\n",
       "  </thead>\n",
       "  <tbody>\n",
       "    <tr>\n",
       "      <th>aaron-hughes</th>\n",
       "      <td>Fulham FC</td>\n",
       "      <td>England</td>\n",
       "      <td>08.11.1979</td>\n",
       "      <td>182.0</td>\n",
       "      <td>71.0</td>\n",
       "      <td>Center Back</td>\n",
       "      <td>0.0</td>\n",
       "      <td>0.125</td>\n",
       "      <td>3.939759</td>\n",
       "      <td>1.487952</td>\n",
       "      <td>1.078313</td>\n",
       "      <td>1.373494</td>\n",
       "      <td>0.054217</td>\n",
       "      <td>0.114458</td>\n",
       "      <td>0.000000</td>\n",
       "      <td>0.000000</td>\n",
       "    </tr>\n",
       "    <tr>\n",
       "      <th>aaron-hunt</th>\n",
       "      <td>Werder Bremen</td>\n",
       "      <td>Germany</td>\n",
       "      <td>04.09.1986</td>\n",
       "      <td>183.0</td>\n",
       "      <td>73.0</td>\n",
       "      <td>Attacking Midfielder</td>\n",
       "      <td>0.0</td>\n",
       "      <td>0.125</td>\n",
       "      <td>3.393939</td>\n",
       "      <td>1.424242</td>\n",
       "      <td>0.737374</td>\n",
       "      <td>1.232323</td>\n",
       "      <td>0.626263</td>\n",
       "      <td>0.424242</td>\n",
       "      <td>0.000000</td>\n",
       "      <td>0.010101</td>\n",
       "    </tr>\n",
       "    <tr>\n",
       "      <th>aaron-lennon</th>\n",
       "      <td>Tottenham Hotspur</td>\n",
       "      <td>England</td>\n",
       "      <td>16.04.1987</td>\n",
       "      <td>165.0</td>\n",
       "      <td>63.0</td>\n",
       "      <td>Right Midfielder</td>\n",
       "      <td>0.0</td>\n",
       "      <td>0.250</td>\n",
       "      <td>4.079208</td>\n",
       "      <td>1.980198</td>\n",
       "      <td>0.960396</td>\n",
       "      <td>1.138614</td>\n",
       "      <td>0.306931</td>\n",
       "      <td>0.108911</td>\n",
       "      <td>0.000000</td>\n",
       "      <td>0.000000</td>\n",
       "    </tr>\n",
       "    <tr>\n",
       "      <th>aaron-ramsey</th>\n",
       "      <td>Arsenal FC</td>\n",
       "      <td>England</td>\n",
       "      <td>26.12.1990</td>\n",
       "      <td>178.0</td>\n",
       "      <td>76.0</td>\n",
       "      <td>Center Midfielder</td>\n",
       "      <td>0.0</td>\n",
       "      <td>0.000</td>\n",
       "      <td>2.500000</td>\n",
       "      <td>1.442308</td>\n",
       "      <td>0.403846</td>\n",
       "      <td>0.653846</td>\n",
       "      <td>0.375000</td>\n",
       "      <td>0.298077</td>\n",
       "      <td>0.000000</td>\n",
       "      <td>0.009615</td>\n",
       "    </tr>\n",
       "    <tr>\n",
       "      <th>abdelhamid-el-kaoutari</th>\n",
       "      <td>Montpellier HSC</td>\n",
       "      <td>France</td>\n",
       "      <td>17.03.1990</td>\n",
       "      <td>180.0</td>\n",
       "      <td>73.0</td>\n",
       "      <td>Center Back</td>\n",
       "      <td>0.0</td>\n",
       "      <td>0.250</td>\n",
       "      <td>3.351351</td>\n",
       "      <td>1.108108</td>\n",
       "      <td>1.081081</td>\n",
       "      <td>1.162162</td>\n",
       "      <td>0.027027</td>\n",
       "      <td>0.216216</td>\n",
       "      <td>0.108108</td>\n",
       "      <td>0.054054</td>\n",
       "    </tr>\n",
       "  </tbody>\n",
       "</table>\n",
       "</div>"
      ],
      "text/plain": [
       "                                     club leagueCountry    birthday  height  \\\n",
       "aaron-hughes                    Fulham FC       England  08.11.1979   182.0   \n",
       "aaron-hunt                  Werder Bremen       Germany  04.09.1986   183.0   \n",
       "aaron-lennon            Tottenham Hotspur       England  16.04.1987   165.0   \n",
       "aaron-ramsey                   Arsenal FC       England  26.12.1990   178.0   \n",
       "abdelhamid-el-kaoutari    Montpellier HSC        France  17.03.1990   180.0   \n",
       "\n",
       "                        weight              position  Skintone  Skintone_avg  \\\n",
       "aaron-hughes              71.0           Center Back       0.0         0.125   \n",
       "aaron-hunt                73.0  Attacking Midfielder       0.0         0.125   \n",
       "aaron-lennon              63.0      Right Midfielder       0.0         0.250   \n",
       "aaron-ramsey              76.0     Center Midfielder       0.0         0.000   \n",
       "abdelhamid-el-kaoutari    73.0           Center Back       0.0         0.250   \n",
       "\n",
       "                           games  victories      ties   defeats     goals  \\\n",
       "aaron-hughes            3.939759   1.487952  1.078313  1.373494  0.054217   \n",
       "aaron-hunt              3.393939   1.424242  0.737374  1.232323  0.626263   \n",
       "aaron-lennon            4.079208   1.980198  0.960396  1.138614  0.306931   \n",
       "aaron-ramsey            2.500000   1.442308  0.403846  0.653846  0.375000   \n",
       "abdelhamid-el-kaoutari  3.351351   1.108108  1.081081  1.162162  0.027027   \n",
       "\n",
       "                        yellowCards  yellowReds  redCards  \n",
       "aaron-hughes               0.114458    0.000000  0.000000  \n",
       "aaron-hunt                 0.424242    0.000000  0.010101  \n",
       "aaron-lennon               0.108911    0.000000  0.000000  \n",
       "aaron-ramsey               0.298077    0.000000  0.009615  \n",
       "abdelhamid-el-kaoutari     0.216216    0.108108  0.054054  "
      ]
     },
     "execution_count": 453,
     "metadata": {},
     "output_type": "execute_result"
    }
   ],
   "source": [
    "# Merging the two again\n",
    "df_by_player = pd.concat([df_g_non_summable, df_g_summable], axis=1, join='outer')\n",
    "df_by_player.head()"
   ]
  },
  {
   "cell_type": "markdown",
   "metadata": {},
   "source": [
    "An extra transformation that seems reasonable is to change the \"birthday\" parameter for an \"age\" parameter"
   ]
  },
  {
   "cell_type": "code",
   "execution_count": 454,
   "metadata": {
    "collapsed": false
   },
   "outputs": [
    {
     "data": {
      "text/html": [
       "<div>\n",
       "<table border=\"1\" class=\"dataframe\">\n",
       "  <thead>\n",
       "    <tr style=\"text-align: right;\">\n",
       "      <th></th>\n",
       "      <th>club</th>\n",
       "      <th>leagueCountry</th>\n",
       "      <th>height</th>\n",
       "      <th>weight</th>\n",
       "      <th>position</th>\n",
       "      <th>Skintone</th>\n",
       "      <th>Skintone_avg</th>\n",
       "      <th>games</th>\n",
       "      <th>victories</th>\n",
       "      <th>ties</th>\n",
       "      <th>defeats</th>\n",
       "      <th>goals</th>\n",
       "      <th>yellowCards</th>\n",
       "      <th>yellowReds</th>\n",
       "      <th>redCards</th>\n",
       "      <th>age</th>\n",
       "    </tr>\n",
       "  </thead>\n",
       "  <tbody>\n",
       "    <tr>\n",
       "      <th>aaron-hughes</th>\n",
       "      <td>Fulham FC</td>\n",
       "      <td>England</td>\n",
       "      <td>182.0</td>\n",
       "      <td>71.0</td>\n",
       "      <td>Center Back</td>\n",
       "      <td>0.0</td>\n",
       "      <td>0.125</td>\n",
       "      <td>3.939759</td>\n",
       "      <td>1.487952</td>\n",
       "      <td>1.078313</td>\n",
       "      <td>1.373494</td>\n",
       "      <td>0.054217</td>\n",
       "      <td>0.114458</td>\n",
       "      <td>0.000000</td>\n",
       "      <td>0.000000</td>\n",
       "      <td>33</td>\n",
       "    </tr>\n",
       "    <tr>\n",
       "      <th>aaron-hunt</th>\n",
       "      <td>Werder Bremen</td>\n",
       "      <td>Germany</td>\n",
       "      <td>183.0</td>\n",
       "      <td>73.0</td>\n",
       "      <td>Attacking Midfielder</td>\n",
       "      <td>0.0</td>\n",
       "      <td>0.125</td>\n",
       "      <td>3.393939</td>\n",
       "      <td>1.424242</td>\n",
       "      <td>0.737374</td>\n",
       "      <td>1.232323</td>\n",
       "      <td>0.626263</td>\n",
       "      <td>0.424242</td>\n",
       "      <td>0.000000</td>\n",
       "      <td>0.010101</td>\n",
       "      <td>26</td>\n",
       "    </tr>\n",
       "    <tr>\n",
       "      <th>aaron-lennon</th>\n",
       "      <td>Tottenham Hotspur</td>\n",
       "      <td>England</td>\n",
       "      <td>165.0</td>\n",
       "      <td>63.0</td>\n",
       "      <td>Right Midfielder</td>\n",
       "      <td>0.0</td>\n",
       "      <td>0.250</td>\n",
       "      <td>4.079208</td>\n",
       "      <td>1.980198</td>\n",
       "      <td>0.960396</td>\n",
       "      <td>1.138614</td>\n",
       "      <td>0.306931</td>\n",
       "      <td>0.108911</td>\n",
       "      <td>0.000000</td>\n",
       "      <td>0.000000</td>\n",
       "      <td>25</td>\n",
       "    </tr>\n",
       "    <tr>\n",
       "      <th>aaron-ramsey</th>\n",
       "      <td>Arsenal FC</td>\n",
       "      <td>England</td>\n",
       "      <td>178.0</td>\n",
       "      <td>76.0</td>\n",
       "      <td>Center Midfielder</td>\n",
       "      <td>0.0</td>\n",
       "      <td>0.000</td>\n",
       "      <td>2.500000</td>\n",
       "      <td>1.442308</td>\n",
       "      <td>0.403846</td>\n",
       "      <td>0.653846</td>\n",
       "      <td>0.375000</td>\n",
       "      <td>0.298077</td>\n",
       "      <td>0.000000</td>\n",
       "      <td>0.009615</td>\n",
       "      <td>22</td>\n",
       "    </tr>\n",
       "    <tr>\n",
       "      <th>abdelhamid-el-kaoutari</th>\n",
       "      <td>Montpellier HSC</td>\n",
       "      <td>France</td>\n",
       "      <td>180.0</td>\n",
       "      <td>73.0</td>\n",
       "      <td>Center Back</td>\n",
       "      <td>0.0</td>\n",
       "      <td>0.250</td>\n",
       "      <td>3.351351</td>\n",
       "      <td>1.108108</td>\n",
       "      <td>1.081081</td>\n",
       "      <td>1.162162</td>\n",
       "      <td>0.027027</td>\n",
       "      <td>0.216216</td>\n",
       "      <td>0.108108</td>\n",
       "      <td>0.054054</td>\n",
       "      <td>22</td>\n",
       "    </tr>\n",
       "  </tbody>\n",
       "</table>\n",
       "</div>"
      ],
      "text/plain": [
       "                                     club leagueCountry  height  weight  \\\n",
       "aaron-hughes                    Fulham FC       England   182.0    71.0   \n",
       "aaron-hunt                  Werder Bremen       Germany   183.0    73.0   \n",
       "aaron-lennon            Tottenham Hotspur       England   165.0    63.0   \n",
       "aaron-ramsey                   Arsenal FC       England   178.0    76.0   \n",
       "abdelhamid-el-kaoutari    Montpellier HSC        France   180.0    73.0   \n",
       "\n",
       "                                    position  Skintone  Skintone_avg  \\\n",
       "aaron-hughes                     Center Back       0.0         0.125   \n",
       "aaron-hunt              Attacking Midfielder       0.0         0.125   \n",
       "aaron-lennon                Right Midfielder       0.0         0.250   \n",
       "aaron-ramsey               Center Midfielder       0.0         0.000   \n",
       "abdelhamid-el-kaoutari           Center Back       0.0         0.250   \n",
       "\n",
       "                           games  victories      ties   defeats     goals  \\\n",
       "aaron-hughes            3.939759   1.487952  1.078313  1.373494  0.054217   \n",
       "aaron-hunt              3.393939   1.424242  0.737374  1.232323  0.626263   \n",
       "aaron-lennon            4.079208   1.980198  0.960396  1.138614  0.306931   \n",
       "aaron-ramsey            2.500000   1.442308  0.403846  0.653846  0.375000   \n",
       "abdelhamid-el-kaoutari  3.351351   1.108108  1.081081  1.162162  0.027027   \n",
       "\n",
       "                        yellowCards  yellowReds  redCards  age  \n",
       "aaron-hughes               0.114458    0.000000  0.000000   33  \n",
       "aaron-hunt                 0.424242    0.000000  0.010101   26  \n",
       "aaron-lennon               0.108911    0.000000  0.000000   25  \n",
       "aaron-ramsey               0.298077    0.000000  0.009615   22  \n",
       "abdelhamid-el-kaoutari     0.216216    0.108108  0.054054   22  "
      ]
     },
     "execution_count": 454,
     "metadata": {},
     "output_type": "execute_result"
    }
   ],
   "source": [
    "## Transform to datetime and substract to the season's year when we collected the data\n",
    "df_by_player['age'] = pd.to_datetime(df_by_player.birthday).map(lambda x: 2012 - x.year)\n",
    "df_by_player.age.head()\n",
    "## We can now drop the \"birthday\" parameter\n",
    "df_by_player.drop('birthday', axis=1, inplace=True)\n",
    "df_by_player.head()"
   ]
  },
  {
   "cell_type": "markdown",
   "metadata": {},
   "source": [
    "The final step is to transform categorical variables to dummy variables, that are more friendly to machine learning algorithms. An important note is that this greatly increases the number of features due to the huge number of clubs, and makes us vulnerable to the curse of dimensionality as well as overfitting."
   ]
  },
  {
   "cell_type": "code",
   "execution_count": 455,
   "metadata": {
    "collapsed": false
   },
   "outputs": [
    {
     "data": {
      "text/html": [
       "<div>\n",
       "<table border=\"1\" class=\"dataframe\">\n",
       "  <thead>\n",
       "    <tr style=\"text-align: right;\">\n",
       "      <th></th>\n",
       "      <th>height</th>\n",
       "      <th>weight</th>\n",
       "      <th>Skintone</th>\n",
       "      <th>Skintone_avg</th>\n",
       "      <th>games</th>\n",
       "      <th>victories</th>\n",
       "      <th>ties</th>\n",
       "      <th>defeats</th>\n",
       "      <th>goals</th>\n",
       "      <th>yellowCards</th>\n",
       "      <th>...</th>\n",
       "      <th>position_Center Forward</th>\n",
       "      <th>position_Center Midfielder</th>\n",
       "      <th>position_Defensive Midfielder</th>\n",
       "      <th>position_Goalkeeper</th>\n",
       "      <th>position_Left Fullback</th>\n",
       "      <th>position_Left Midfielder</th>\n",
       "      <th>position_Left Winger</th>\n",
       "      <th>position_Right Fullback</th>\n",
       "      <th>position_Right Midfielder</th>\n",
       "      <th>position_Right Winger</th>\n",
       "    </tr>\n",
       "  </thead>\n",
       "  <tbody>\n",
       "    <tr>\n",
       "      <th>aaron-hughes</th>\n",
       "      <td>182.0</td>\n",
       "      <td>71.0</td>\n",
       "      <td>0.0</td>\n",
       "      <td>0.125</td>\n",
       "      <td>3.939759</td>\n",
       "      <td>1.487952</td>\n",
       "      <td>1.078313</td>\n",
       "      <td>1.373494</td>\n",
       "      <td>0.054217</td>\n",
       "      <td>0.114458</td>\n",
       "      <td>...</td>\n",
       "      <td>0.0</td>\n",
       "      <td>0.0</td>\n",
       "      <td>0.0</td>\n",
       "      <td>0.0</td>\n",
       "      <td>0.0</td>\n",
       "      <td>0.0</td>\n",
       "      <td>0.0</td>\n",
       "      <td>0.0</td>\n",
       "      <td>0.0</td>\n",
       "      <td>0.0</td>\n",
       "    </tr>\n",
       "    <tr>\n",
       "      <th>aaron-hunt</th>\n",
       "      <td>183.0</td>\n",
       "      <td>73.0</td>\n",
       "      <td>0.0</td>\n",
       "      <td>0.125</td>\n",
       "      <td>3.393939</td>\n",
       "      <td>1.424242</td>\n",
       "      <td>0.737374</td>\n",
       "      <td>1.232323</td>\n",
       "      <td>0.626263</td>\n",
       "      <td>0.424242</td>\n",
       "      <td>...</td>\n",
       "      <td>0.0</td>\n",
       "      <td>0.0</td>\n",
       "      <td>0.0</td>\n",
       "      <td>0.0</td>\n",
       "      <td>0.0</td>\n",
       "      <td>0.0</td>\n",
       "      <td>0.0</td>\n",
       "      <td>0.0</td>\n",
       "      <td>0.0</td>\n",
       "      <td>0.0</td>\n",
       "    </tr>\n",
       "    <tr>\n",
       "      <th>aaron-lennon</th>\n",
       "      <td>165.0</td>\n",
       "      <td>63.0</td>\n",
       "      <td>0.0</td>\n",
       "      <td>0.250</td>\n",
       "      <td>4.079208</td>\n",
       "      <td>1.980198</td>\n",
       "      <td>0.960396</td>\n",
       "      <td>1.138614</td>\n",
       "      <td>0.306931</td>\n",
       "      <td>0.108911</td>\n",
       "      <td>...</td>\n",
       "      <td>0.0</td>\n",
       "      <td>0.0</td>\n",
       "      <td>0.0</td>\n",
       "      <td>0.0</td>\n",
       "      <td>0.0</td>\n",
       "      <td>0.0</td>\n",
       "      <td>0.0</td>\n",
       "      <td>0.0</td>\n",
       "      <td>1.0</td>\n",
       "      <td>0.0</td>\n",
       "    </tr>\n",
       "    <tr>\n",
       "      <th>aaron-ramsey</th>\n",
       "      <td>178.0</td>\n",
       "      <td>76.0</td>\n",
       "      <td>0.0</td>\n",
       "      <td>0.000</td>\n",
       "      <td>2.500000</td>\n",
       "      <td>1.442308</td>\n",
       "      <td>0.403846</td>\n",
       "      <td>0.653846</td>\n",
       "      <td>0.375000</td>\n",
       "      <td>0.298077</td>\n",
       "      <td>...</td>\n",
       "      <td>0.0</td>\n",
       "      <td>1.0</td>\n",
       "      <td>0.0</td>\n",
       "      <td>0.0</td>\n",
       "      <td>0.0</td>\n",
       "      <td>0.0</td>\n",
       "      <td>0.0</td>\n",
       "      <td>0.0</td>\n",
       "      <td>0.0</td>\n",
       "      <td>0.0</td>\n",
       "    </tr>\n",
       "    <tr>\n",
       "      <th>abdelhamid-el-kaoutari</th>\n",
       "      <td>180.0</td>\n",
       "      <td>73.0</td>\n",
       "      <td>0.0</td>\n",
       "      <td>0.250</td>\n",
       "      <td>3.351351</td>\n",
       "      <td>1.108108</td>\n",
       "      <td>1.081081</td>\n",
       "      <td>1.162162</td>\n",
       "      <td>0.027027</td>\n",
       "      <td>0.216216</td>\n",
       "      <td>...</td>\n",
       "      <td>0.0</td>\n",
       "      <td>0.0</td>\n",
       "      <td>0.0</td>\n",
       "      <td>0.0</td>\n",
       "      <td>0.0</td>\n",
       "      <td>0.0</td>\n",
       "      <td>0.0</td>\n",
       "      <td>0.0</td>\n",
       "      <td>0.0</td>\n",
       "      <td>0.0</td>\n",
       "    </tr>\n",
       "  </tbody>\n",
       "</table>\n",
       "<p>5 rows × 121 columns</p>\n",
       "</div>"
      ],
      "text/plain": [
       "                        height  weight  Skintone  Skintone_avg     games  \\\n",
       "aaron-hughes             182.0    71.0       0.0         0.125  3.939759   \n",
       "aaron-hunt               183.0    73.0       0.0         0.125  3.393939   \n",
       "aaron-lennon             165.0    63.0       0.0         0.250  4.079208   \n",
       "aaron-ramsey             178.0    76.0       0.0         0.000  2.500000   \n",
       "abdelhamid-el-kaoutari   180.0    73.0       0.0         0.250  3.351351   \n",
       "\n",
       "                        victories      ties   defeats     goals  yellowCards  \\\n",
       "aaron-hughes             1.487952  1.078313  1.373494  0.054217     0.114458   \n",
       "aaron-hunt               1.424242  0.737374  1.232323  0.626263     0.424242   \n",
       "aaron-lennon             1.980198  0.960396  1.138614  0.306931     0.108911   \n",
       "aaron-ramsey             1.442308  0.403846  0.653846  0.375000     0.298077   \n",
       "abdelhamid-el-kaoutari   1.108108  1.081081  1.162162  0.027027     0.216216   \n",
       "\n",
       "                                ...            position_Center Forward  \\\n",
       "aaron-hughes                    ...                                0.0   \n",
       "aaron-hunt                      ...                                0.0   \n",
       "aaron-lennon                    ...                                0.0   \n",
       "aaron-ramsey                    ...                                0.0   \n",
       "abdelhamid-el-kaoutari          ...                                0.0   \n",
       "\n",
       "                        position_Center Midfielder  \\\n",
       "aaron-hughes                                   0.0   \n",
       "aaron-hunt                                     0.0   \n",
       "aaron-lennon                                   0.0   \n",
       "aaron-ramsey                                   1.0   \n",
       "abdelhamid-el-kaoutari                         0.0   \n",
       "\n",
       "                        position_Defensive Midfielder  position_Goalkeeper  \\\n",
       "aaron-hughes                                      0.0                  0.0   \n",
       "aaron-hunt                                        0.0                  0.0   \n",
       "aaron-lennon                                      0.0                  0.0   \n",
       "aaron-ramsey                                      0.0                  0.0   \n",
       "abdelhamid-el-kaoutari                            0.0                  0.0   \n",
       "\n",
       "                        position_Left Fullback  position_Left Midfielder  \\\n",
       "aaron-hughes                               0.0                       0.0   \n",
       "aaron-hunt                                 0.0                       0.0   \n",
       "aaron-lennon                               0.0                       0.0   \n",
       "aaron-ramsey                               0.0                       0.0   \n",
       "abdelhamid-el-kaoutari                     0.0                       0.0   \n",
       "\n",
       "                        position_Left Winger  position_Right Fullback  \\\n",
       "aaron-hughes                             0.0                      0.0   \n",
       "aaron-hunt                               0.0                      0.0   \n",
       "aaron-lennon                             0.0                      0.0   \n",
       "aaron-ramsey                             0.0                      0.0   \n",
       "abdelhamid-el-kaoutari                   0.0                      0.0   \n",
       "\n",
       "                        position_Right Midfielder  position_Right Winger  \n",
       "aaron-hughes                                  0.0                    0.0  \n",
       "aaron-hunt                                    0.0                    0.0  \n",
       "aaron-lennon                                  1.0                    0.0  \n",
       "aaron-ramsey                                  0.0                    0.0  \n",
       "abdelhamid-el-kaoutari                        0.0                    0.0  \n",
       "\n",
       "[5 rows x 121 columns]"
      ]
     },
     "execution_count": 455,
     "metadata": {},
     "output_type": "execute_result"
    }
   ],
   "source": [
    "data = pd.get_dummies(df_by_player)\n",
    "data.head()"
   ]
  },
  {
   "cell_type": "markdown",
   "metadata": {},
   "source": [
    "A different approach that is also worth trying, and that aims to avoid the feature space explosion, is to go from categorical strings to numerical codes that can be handled by a random forest. The interpretability of the results can be however much more tricky."
   ]
  },
  {
   "cell_type": "code",
   "execution_count": 456,
   "metadata": {
    "collapsed": false
   },
   "outputs": [
    {
     "data": {
      "text/plain": [
       "Index(['club', 'leagueCountry', 'position'], dtype='object')"
      ]
     },
     "execution_count": 456,
     "metadata": {},
     "output_type": "execute_result"
    }
   ],
   "source": [
    "cat_columns = df_by_player.select_dtypes(['object']).columns\n",
    "cat_columns"
   ]
  },
  {
   "cell_type": "code",
   "execution_count": 457,
   "metadata": {
    "collapsed": false
   },
   "outputs": [
    {
     "data": {
      "text/html": [
       "<div>\n",
       "<table border=\"1\" class=\"dataframe\">\n",
       "  <thead>\n",
       "    <tr style=\"text-align: right;\">\n",
       "      <th></th>\n",
       "      <th>club</th>\n",
       "      <th>leagueCountry</th>\n",
       "      <th>height</th>\n",
       "      <th>weight</th>\n",
       "      <th>position</th>\n",
       "      <th>Skintone</th>\n",
       "      <th>Skintone_avg</th>\n",
       "      <th>games</th>\n",
       "      <th>victories</th>\n",
       "      <th>ties</th>\n",
       "      <th>defeats</th>\n",
       "      <th>goals</th>\n",
       "      <th>yellowCards</th>\n",
       "      <th>yellowReds</th>\n",
       "      <th>redCards</th>\n",
       "      <th>age</th>\n",
       "    </tr>\n",
       "  </thead>\n",
       "  <tbody>\n",
       "    <tr>\n",
       "      <th>aaron-hughes</th>\n",
       "      <td>33</td>\n",
       "      <td>0</td>\n",
       "      <td>182.0</td>\n",
       "      <td>71.0</td>\n",
       "      <td>1</td>\n",
       "      <td>0.0</td>\n",
       "      <td>0.125</td>\n",
       "      <td>3.939759</td>\n",
       "      <td>1.487952</td>\n",
       "      <td>1.078313</td>\n",
       "      <td>1.373494</td>\n",
       "      <td>0.054217</td>\n",
       "      <td>0.114458</td>\n",
       "      <td>0.000000</td>\n",
       "      <td>0.000000</td>\n",
       "      <td>33</td>\n",
       "    </tr>\n",
       "    <tr>\n",
       "      <th>aaron-hunt</th>\n",
       "      <td>86</td>\n",
       "      <td>2</td>\n",
       "      <td>183.0</td>\n",
       "      <td>73.0</td>\n",
       "      <td>0</td>\n",
       "      <td>0.0</td>\n",
       "      <td>0.125</td>\n",
       "      <td>3.393939</td>\n",
       "      <td>1.424242</td>\n",
       "      <td>0.737374</td>\n",
       "      <td>1.232323</td>\n",
       "      <td>0.626263</td>\n",
       "      <td>0.424242</td>\n",
       "      <td>0.000000</td>\n",
       "      <td>0.010101</td>\n",
       "      <td>26</td>\n",
       "    </tr>\n",
       "    <tr>\n",
       "      <th>aaron-lennon</th>\n",
       "      <td>79</td>\n",
       "      <td>0</td>\n",
       "      <td>165.0</td>\n",
       "      <td>63.0</td>\n",
       "      <td>10</td>\n",
       "      <td>0.0</td>\n",
       "      <td>0.250</td>\n",
       "      <td>4.079208</td>\n",
       "      <td>1.980198</td>\n",
       "      <td>0.960396</td>\n",
       "      <td>1.138614</td>\n",
       "      <td>0.306931</td>\n",
       "      <td>0.108911</td>\n",
       "      <td>0.000000</td>\n",
       "      <td>0.000000</td>\n",
       "      <td>25</td>\n",
       "    </tr>\n",
       "    <tr>\n",
       "      <th>aaron-ramsey</th>\n",
       "      <td>6</td>\n",
       "      <td>0</td>\n",
       "      <td>178.0</td>\n",
       "      <td>76.0</td>\n",
       "      <td>3</td>\n",
       "      <td>0.0</td>\n",
       "      <td>0.000</td>\n",
       "      <td>2.500000</td>\n",
       "      <td>1.442308</td>\n",
       "      <td>0.403846</td>\n",
       "      <td>0.653846</td>\n",
       "      <td>0.375000</td>\n",
       "      <td>0.298077</td>\n",
       "      <td>0.000000</td>\n",
       "      <td>0.009615</td>\n",
       "      <td>22</td>\n",
       "    </tr>\n",
       "    <tr>\n",
       "      <th>abdelhamid-el-kaoutari</th>\n",
       "      <td>48</td>\n",
       "      <td>1</td>\n",
       "      <td>180.0</td>\n",
       "      <td>73.0</td>\n",
       "      <td>1</td>\n",
       "      <td>0.0</td>\n",
       "      <td>0.250</td>\n",
       "      <td>3.351351</td>\n",
       "      <td>1.108108</td>\n",
       "      <td>1.081081</td>\n",
       "      <td>1.162162</td>\n",
       "      <td>0.027027</td>\n",
       "      <td>0.216216</td>\n",
       "      <td>0.108108</td>\n",
       "      <td>0.054054</td>\n",
       "      <td>22</td>\n",
       "    </tr>\n",
       "  </tbody>\n",
       "</table>\n",
       "</div>"
      ],
      "text/plain": [
       "                        club  leagueCountry  height  weight  position  \\\n",
       "aaron-hughes              33              0   182.0    71.0         1   \n",
       "aaron-hunt                86              2   183.0    73.0         0   \n",
       "aaron-lennon              79              0   165.0    63.0        10   \n",
       "aaron-ramsey               6              0   178.0    76.0         3   \n",
       "abdelhamid-el-kaoutari    48              1   180.0    73.0         1   \n",
       "\n",
       "                        Skintone  Skintone_avg     games  victories      ties  \\\n",
       "aaron-hughes                 0.0         0.125  3.939759   1.487952  1.078313   \n",
       "aaron-hunt                   0.0         0.125  3.393939   1.424242  0.737374   \n",
       "aaron-lennon                 0.0         0.250  4.079208   1.980198  0.960396   \n",
       "aaron-ramsey                 0.0         0.000  2.500000   1.442308  0.403846   \n",
       "abdelhamid-el-kaoutari       0.0         0.250  3.351351   1.108108  1.081081   \n",
       "\n",
       "                         defeats     goals  yellowCards  yellowReds  redCards  \\\n",
       "aaron-hughes            1.373494  0.054217     0.114458    0.000000  0.000000   \n",
       "aaron-hunt              1.232323  0.626263     0.424242    0.000000  0.010101   \n",
       "aaron-lennon            1.138614  0.306931     0.108911    0.000000  0.000000   \n",
       "aaron-ramsey            0.653846  0.375000     0.298077    0.000000  0.009615   \n",
       "abdelhamid-el-kaoutari  1.162162  0.027027     0.216216    0.108108  0.054054   \n",
       "\n",
       "                        age  \n",
       "aaron-hughes             33  \n",
       "aaron-hunt               26  \n",
       "aaron-lennon             25  \n",
       "aaron-ramsey             22  \n",
       "abdelhamid-el-kaoutari   22  "
      ]
     },
     "execution_count": 457,
     "metadata": {},
     "output_type": "execute_result"
    }
   ],
   "source": [
    "data1 = df_by_player\n",
    "data1[cat_columns] = df_by_player[cat_columns].apply(lambda x: x.astype('category').cat.codes)\n",
    "data1.head()"
   ]
  },
  {
   "cell_type": "markdown",
   "metadata": {},
   "source": [
    "The data is ready. Now we can do some extra visualizations or go directry to the machine learning tasks"
   ]
  },
  {
   "cell_type": "markdown",
   "metadata": {},
   "source": [
    "### 1.2 Random Forest Classifier"
   ]
  },
  {
   "cell_type": "code",
   "execution_count": 458,
   "metadata": {
    "collapsed": true
   },
   "outputs": [],
   "source": [
    "#Seed initialization for repeatability\n",
    "np.random.seed(seed=42) #The answer is 42 ;)"
   ]
  },
  {
   "cell_type": "markdown",
   "metadata": {},
   "source": [
    "Splitting the data into working blocks (for our two versions)"
   ]
  },
  {
   "cell_type": "code",
   "execution_count": 459,
   "metadata": {
    "collapsed": true
   },
   "outputs": [],
   "source": [
    "data_dummyvar = data.drop(['Skintone', 'Skintone_avg'], axis=1)   ## Dummy variables \n",
    "target_dummyvar = data.Skintone.values.tolist()\n",
    "\n",
    "data_label = data1.drop(['Skintone', 'Skintone_avg'], axis=1)     ## Labels\n",
    "target_label = data1.Skintone.values.tolist()"
   ]
  },
  {
   "cell_type": "code",
   "execution_count": 460,
   "metadata": {
    "collapsed": false
   },
   "outputs": [],
   "source": [
    "from sklearn.ensemble import RandomForestClassifier\n",
    "\n",
    "'''\n",
    "RandomForestClassifier(n_estimators=10, criterion='gini', max_depth=None, min_samples_s\n",
    "plit=2,\n",
    "  min_samples_leaf=1, min_weight_fraction_leaf=0.0, max_features='auto', \n",
    "  max_leaf_nodes=None, min_impurity_split=1e-07, bootstrap=True, oob_score=False, \n",
    "  n_jobs=1, random_state=None, verbose=0, warm_start=False, class_weight=None)[source]\n",
    "\n",
    "'''\n",
    "rf = RandomForestClassifier()"
   ]
  },
  {
   "cell_type": "markdown",
   "metadata": {},
   "source": [
    "### Effect of different parameters on overfitting"
   ]
  },
  {
   "cell_type": "markdown",
   "metadata": {},
   "source": [
    "#### Number of estimators (decision trees) \n",
    "Random forest is itself a way of fighting against overfitting in a decission tree. By increasing the number of trees in the forest overfitting shoud decrease respectively."
   ]
  },
  {
   "cell_type": "code",
   "execution_count": 461,
   "metadata": {
    "collapsed": false
   },
   "outputs": [
    {
     "data": {
      "image/png": "[encoded data removed]",
      "text/plain": [
       "<matplotlib.figure.Figure at 0x12710e8d0>"
      ]
     },
     "metadata": {},
     "output_type": "display_data"
    }
   ],
   "source": [
    "from sklearn.model_selection import GridSearchCV\n",
    "'''\n",
    "GridSearchCV(estimator, param_grid, scoring=None, fit_params=None, n_jobs=1, iid=True, refit=True, \n",
    "    cv=None, verbose=0, pre_dispatch='2*n_jobs', error_score='raise', return_train_score=True)[source])\n",
    "'''\n",
    "n_estimators = [1, 5, 10, 20, 30, 40, 50]\n",
    "tuned_parameters = [{'n_estimators': n_estimators}]\n",
    "clf = GridSearchCV(rf, tuned_parameters, cv=10)\n",
    "clf.fit(data_label, target_label);\n",
    "\n",
    "plt.plot(n_estimators, clf.cv_results_['mean_test_score'], 'b>-', n_estimators, clf.cv_results_['mean_train_score'],'go-');\n",
    "plt.title('Number of trees vs Accuracy');\n",
    "plt.xlabel('Number of estimators'); plt.ylabel('Mean accuracy'); plt.legend(['Test','Train']);"
   ]
  },
  {
   "cell_type": "markdown",
   "metadata": {},
   "source": [
    "#### Maximum depth of the trees\n",
    "Another easy way to control overfitting in a random fores is by regulating the maximum depth the trees can take. We expect that overfitting will be reduced as the maximum depth of the trees is decreased."
   ]
  },
  {
   "cell_type": "code",
   "execution_count": 462,
   "metadata": {
    "collapsed": false
   },
   "outputs": [
    {
     "data": {
      "image/png": "[encoded data removed]",
      "text/plain": [
       "<matplotlib.figure.Figure at 0x117ced2b0>"
      ]
     },
     "metadata": {},
     "output_type": "display_data"
    }
   ],
   "source": [
    "rf = RandomForestClassifier(n_estimators=10) \n",
    "max_depth = [1, 3, 5, 10, 20]\n",
    "tuned_parameters = [{'max_depth': max_depth}]\n",
    "clf = GridSearchCV(rf, tuned_parameters, cv=10)\n",
    "clf.fit(data_label, target_label);\n",
    "\n",
    "plt.plot(max_depth, clf.cv_results_['mean_test_score'], 'b>-')\n",
    "plt.plot(max_depth, clf.cv_results_['mean_train_score'], 'go-');\n",
    "plt.title('Max Depth vs Accuracy'); plt.legend( ('Test', 'Train'), loc='upper left')\n",
    "plt.xlabel('Maximum depth'); plt.ylabel('Mean accuracy'); "
   ]
  },
  {
   "cell_type": "markdown",
   "metadata": {},
   "source": [
    "Practically flat after the very first split!"
   ]
  },
  {
   "cell_type": "markdown",
   "metadata": {},
   "source": [
    "#### Minimum number of samples required to be at a leaf node"
   ]
  },
  {
   "cell_type": "code",
   "execution_count": 463,
   "metadata": {
    "collapsed": false
   },
   "outputs": [
    {
     "data": {
      "image/png": "[encoded data removed]",
      "text/plain": [
       "<matplotlib.figure.Figure at 0x11e780128>"
      ]
     },
     "metadata": {},
     "output_type": "display_data"
    }
   ],
   "source": [
    "rf = RandomForestClassifier(n_estimators=30, max_depth=5) \n",
    "min_samples_leaf = [1, 2, 5, 10, 20]\n",
    "tuned_parameters = [{'min_samples_leaf': min_samples_leaf}]\n",
    "clf = GridSearchCV(rf, tuned_parameters, cv=40)\n",
    "clf.fit(data_label, target_label);\n",
    "\n",
    "plt.plot(min_samples_leaf, clf.cv_results_['mean_test_score'], 'b>-')\n",
    "plt.plot(min_samples_leaf, clf.cv_results_['mean_train_score'], 'go-');\n",
    "plt.title('Min samples leaf vs Accuracy'); plt.legend( ('Test', 'Train'), loc='upper right')\n",
    "plt.xlabel('Min samples leaf'); plt.ylabel('Mean accuracy'); "
   ]
  },
  {
   "cell_type": "markdown",
   "metadata": {},
   "source": [
    "### Confusion Matrix"
   ]
  },
  {
   "cell_type": "code",
   "execution_count": 473,
   "metadata": {
    "collapsed": false
   },
   "outputs": [
    {
     "data": {
      "text/plain": [
       "array([[1191,    1],\n",
       "       [ 225,    2]])"
      ]
     },
     "execution_count": 473,
     "metadata": {},
     "output_type": "execute_result"
    }
   ],
   "source": [
    "from sklearn.metrics import confusion_matrix\n",
    "\n",
    "rf = RandomForestClassifier(n_estimators=30, max_depth=5) \n",
    "predicted = cross_val_predict(rf, data_label, target_label, cv=10)\n",
    "confusion_matrix(y_true=target_label, y_pred=predicted, labels=None, sample_weight=None)"
   ]
  },
  {
   "cell_type": "markdown",
   "metadata": {},
   "source": [
    "### Feature importance"
   ]
  },
  {
   "cell_type": "code",
   "execution_count": 464,
   "metadata": {
    "collapsed": false
   },
   "outputs": [
    {
     "data": {
      "image/png": "[encoded data removed]",
      "text/plain": [
       "<matplotlib.figure.Figure at 0x125958518>"
      ]
     },
     "metadata": {},
     "output_type": "display_data"
    }
   ],
   "source": [
    "rf = RandomForestClassifier(n_estimators=30, max_depth=3)\n",
    "rf.fit(data_label, target_label)\n",
    "importances = rf.feature_importances_\n",
    "std = np.std([tree.feature_importances_ for tree in rf.estimators_],axis=0)\n",
    "indices = np.argsort(importances)[::-1]\n",
    "\n",
    "\n",
    "# Plot the feature importances of the forest\n",
    "X = data_label\n",
    "features = np.asarray(data_label.columns.tolist())\n",
    "\n",
    "plt.figure()\n",
    "plt.title(\"Feature importances\")\n",
    "plt.bar(range(X.shape[1]), importances[indices], color=\"r\", yerr=std[indices], align=\"center\")\n",
    "plt.xticks(range(X.shape[1]), features[indices])\n",
    "plt.xlim([-1, X.shape[1]])\n",
    "fig = plt.gcf()\n",
    "fig.set_size_inches(16, 9)\n",
    "plt.show()"
   ]
  },
  {
   "cell_type": "code",
   "execution_count": 465,
   "metadata": {
    "collapsed": false
   },
   "outputs": [
    {
     "data": {
      "image/png": "[encoded data removed]",
      "text/plain": [
       "<matplotlib.figure.Figure at 0x11dfbef60>"
      ]
     },
     "metadata": {},
     "output_type": "display_data"
    }
   ],
   "source": [
    "data_drop = data_label.drop(['height','weight'], axis=1)\n",
    "\n",
    "rf.fit(data_drop, target_label)\n",
    "importances = rf.feature_importances_\n",
    "std = np.std([tree.feature_importances_ for tree in rf.estimators_],axis=0)\n",
    "indices = np.argsort(importances)[::-1]\n",
    "\n",
    "\n",
    "# Plot the feature importances of the forest\n",
    "X = data_drop\n",
    "features = np.asarray(data_drop.columns.tolist())\n",
    "plt.figure()\n",
    "plt.title(\"Feature importances\")\n",
    "plt.bar(range(X.shape[1]), importances[indices], color=\"r\", yerr=std[indices], align=\"center\")\n",
    "plt.xticks(range(X.shape[1]), features[indices])\n",
    "plt.xlim([-1, X.shape[1]])\n",
    "fig = plt.gcf()\n",
    "fig.set_size_inches(16, 8)\n",
    "plt.show()"
   ]
  },
  {
   "cell_type": "markdown",
   "metadata": {},
   "source": [
    "## Bonus"
   ]
  },
  {
   "cell_type": "code",
   "execution_count": 470,
   "metadata": {
    "collapsed": false
   },
   "outputs": [
    {
     "data": {
      "image/png": "[encoded data removed]",
      "text/plain": [
       "<matplotlib.figure.Figure at 0x11da799e8>"
      ]
     },
     "metadata": {},
     "output_type": "display_data"
    }
   ],
   "source": [
    "from sklearn.model_selection import learning_curve\n",
    "from sklearn.model_selection import cross_val_predict\n",
    "from sklearn import metrics\n",
    "\n",
    "rf = RandomForestClassifier(n_estimators=30, max_depth=5)\n",
    "predicted = cross_val_predict(rf, data_label, target_label, cv=10)\n",
    "metrics.accuracy_score(target_label, predicted)\n",
    "\n",
    "train_sizes, train_scores, valid_scores = learning_curve(rf, X=data_label, y=target_label, groups=None, \n",
    "                                                         train_sizes=np.array([ 0.05, 0.1, 0.2, 0.33, 0.55, 0.78, 1.]),\n",
    "                                                         cv=40, scoring=None, exploit_incremental_learning=False,\n",
    "                                                         n_jobs=1, pre_dispatch='all', verbose=0)\n",
    "plt.plot(train_sizes, np.mean(train_scores,axis=1), 'go-')\n",
    "plt.plot(train_sizes, np.mean(valid_scores,axis=1), 'b>-')\n",
    "plt.legend(('Training','Validation'))\n",
    "plt.xlabel('Training set size'); plt.ylabel('Accuracy')\n",
    "plt.show()"
   ]
  },
  {
   "cell_type": "markdown",
   "metadata": {},
   "source": [
    "[TODO: Find set of parameters which leads to high bias]\n",
    "[Debug: Why is validation error less than training error in the figure below?]"
   ]
  },
  {
   "cell_type": "code",
   "execution_count": 471,
   "metadata": {
    "collapsed": false
   },
   "outputs": [
    {
     "data": {
      "image/png": "[encoded data removed]",
      "text/plain": [
       "<matplotlib.figure.Figure at 0x11f5c2518>"
      ]
     },
     "metadata": {},
     "output_type": "display_data"
    }
   ],
   "source": [
    "rf = RandomForestClassifier(n_estimators=30, min_samples_leaf=10)\n",
    "train_sizes, train_scores, valid_scores = learning_curve(rf, X=data_label, y=target_label, groups=None, \n",
    "                                                         train_sizes=np.array([ 0.05, 0.1, 0.2, 0.33, 0.55, 0.78, 1.]),\n",
    "                                                         cv=40, scoring=None, exploit_incremental_learning=False,\n",
    "                                                         n_jobs=1, pre_dispatch='all', verbose=0)\n",
    "plt.plot(train_sizes, np.mean(train_scores,axis=1), 'go-')\n",
    "plt.plot(train_sizes, np.mean(valid_scores,axis=1), 'b>-')\n",
    "plt.legend(('Training','Validation'), loc='lower right')\n",
    "plt.xlabel('Training set size'); plt.ylabel('Accuracy')\n",
    "plt.show()"
   ]
  },
  {
   "cell_type": "markdown",
   "metadata": {},
   "source": [
    "## 2 Unsupervised Learning "
   ]
  },
  {
   "cell_type": "code",
   "execution_count": 468,
   "metadata": {
    "collapsed": false
   },
   "outputs": [
    {
     "name": "stdout",
     "output_type": "stream",
     "text": [
      "The average silhouette_score is : 0.582\n",
      "The average silhouette_score is : 0.582\n",
      "The average silhouette_score is : 0.607\n",
      "The average silhouette_score is : 0.607\n",
      "The average silhouette_score is : 0.626\n",
      "The average silhouette_score is : 0.626\n",
      "The average silhouette_score is : 0.626\n",
      "The average silhouette_score is : 0.627\n",
      "The average silhouette_score is : 0.63\n",
      "The average silhouette_score is : 0.63\n",
      "The average silhouette_score is : 0.581\n",
      "The average silhouette_score is : 0.742\n"
     ]
    }
   ],
   "source": [
    "from sklearn.cluster import KMeans\n",
    "from sklearn.metrics import silhouette_samples, silhouette_score\n",
    "\n",
    "n_clusters = 2\n",
    "X = data_label\n",
    "num_features = len(features)\n",
    "silhouette_score_arr = []\n",
    "mean_arr = []\n",
    "std_arr = []\n",
    "\n",
    "for i in range(num_features,0,-1):\n",
    "    X = data_label[features[indices]].iloc[:,range(0,i)]\n",
    "    \n",
    "    clusterer = KMeans(n_clusters=n_clusters, random_state=10)\n",
    "    cluster_labels = clusterer.fit_predict(X)\n",
    "\n",
    "    # The silhouette_score gives the average value for all the samples.\n",
    "    # This gives a perspective into the density and separation of the formed clusters\n",
    "    silhouette_avg = silhouette_score(X, cluster_labels)\n",
    "    print(\"The average silhouette_score is :\", np.round(silhouette_avg,3))\n",
    "    silhouette_score_arr.append(silhouette_avg)\n",
    "    \n",
    "    df3 = pd.DataFrame({'Skintone': data1['Skintone_avg'], 'Cluster':cluster_labels})\n",
    "    mean_arr.append(df3.groupby('Cluster').mean()['Skintone'].values)\n",
    "    std_arr.append(df3.groupby('Cluster').std()['Skintone'].values)\n"
   ]
  },
  {
   "cell_type": "code",
   "execution_count": 469,
   "metadata": {
    "collapsed": false
   },
   "outputs": [
    {
     "data": {
      "image/png": "[encoded data removed]",
      "text/plain": [
       "<matplotlib.figure.Figure at 0x11f26b240>"
      ]
     },
     "metadata": {},
     "output_type": "display_data"
    }
   ],
   "source": [
    "plt.errorbar([0, 1], mean_arr[-1], yerr=std_arr[-1], linestyle='None', marker='^')\n",
    "plt.xlim([-0.2, 1.2]); \n",
    "plt.xticks([0,1],['Cluster0', 'Cluster1']); \n",
    "plt.show()"
   ]
  }
 ],
 "metadata": {
  "anaconda-cloud": {},
  "kernelspec": {
   "display_name": "Python [conda root]",
   "language": "python",
   "name": "conda-root-py"
  },
  "language_info": {
   "codemirror_mode": {
    "name": "ipython",
    "version": 3
   },
   "file_extension": ".py",
   "mimetype": "text/x-python",
   "name": "python",
   "nbconvert_exporter": "python",
   "pygments_lexer": "ipython3",
   "version": "3.5.2"
  }
 },
 "nbformat": 4,
 "nbformat_minor": 1
}
