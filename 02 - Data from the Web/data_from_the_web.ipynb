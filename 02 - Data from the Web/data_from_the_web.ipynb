{
 "cells": [
  {
   "cell_type": "markdown",
   "metadata": {},
   "source": [
    "# Data from the web"
   ]
  },
  {
   "cell_type": "markdown",
   "metadata": {},
   "source": [
    "This work aims to collect and analyse the studnet data from IS-Academia portal of EPFL. The objective is to study the average time spent by the male and female bachelor students and also to determine if average time spent by Master students is different for students with any specific specialisation."
   ]
  },
  {
   "cell_type": "code",
   "execution_count": 429,
   "metadata": {
    "collapsed": true
   },
   "outputs": [],
   "source": [
    "## Importing libraries\n",
    "import requests\n",
    "from bs4 import BeautifulSoup\n",
    "import numpy as np\n",
    "import pandas as pd\n",
    "import re\n",
    "%matplotlib inline\n",
    "import matplotlib.pyplot as plt\n",
    "import scipy.stats as stats"
   ]
  },
  {
   "cell_type": "markdown",
   "metadata": {},
   "source": [
    "## 1. Bachelor students"
   ]
  },
  {
   "cell_type": "markdown",
   "metadata": {},
   "source": [
    "'Requests' library is used to get the HTML data using a base url. 'BeautifulSoup' is then used to parse the HTML."
   ]
  },
  {
   "cell_type": "code",
   "execution_count": 431,
   "metadata": {
    "collapsed": false
   },
   "outputs": [],
   "source": [
    "form_url = 'http://isa.epfl.ch/imoniteur_ISAP/!GEDPUBLICREPORTS.filter?ww_b_list=1&ww_i_reportmodel=133685247&ww_c_langue=&ww_i_reportModelXsl=133685270&zz_x_UNITE_ACAD=Informatique&ww_x_UNITE_ACAD=249847&zz_x_PERIODE_ACAD=2007-2008&ww_x_PERIODE_ACAD=978181&zz_x_PERIODE_PEDAGO=Bachelor+semestre+1&ww_x_PERIODE_PEDAGO=249108&zz_x_HIVERETE=&ww_x_HIVERETE=null&dummy=ok'\n",
    "r = requests.get(form_url)\n",
    "soup = BeautifulSoup(r.text, 'html.parser')"
   ]
  },
  {
   "cell_type": "markdown",
   "metadata": {},
   "source": [
    "This section will extract the form values for different parameters (section, year, semester). \n",
    "Beautifulsoup's find_all method is used to select 'option' under all 'td's. option['value'] will then give us the desired values. \n",
    "The extracted values will then be used to generate HTTP requests"
   ]
  },
  {
   "cell_type": "code",
   "execution_count": 14,
   "metadata": {
    "collapsed": false
   },
   "outputs": [],
   "source": [
    "# Extracting form value for section 'Informatique'\n",
    "section_value = []\n",
    "section_value.append(int([op['value'] for op in soup.find_all('td')[2].find_all('option') if op.text=='Informatique'][0]))\n",
    "\n",
    "# Extracting form value for all the years\n",
    "years = ['2007-2008','2008-2009','2009-2010','2010-2011','2011-2012','2012-2013','2013-2014','2014-2015','2015-2016','2016-2017',]\n",
    "year_value = []\n",
    "for year in years:\n",
    "    year_value.append(int([op['value'] for op in soup.find_all('td')[3].find_all('option') if op.text==year][0]))\n",
    "\n",
    "# Extracting form value for all the Bachelor semesters (# '5b' and '6b': not included, since no results are returned)\n",
    "semesters = ['Bachelor semestre 1', 'Bachelor semestre 2', 'Bachelor semestre 3', 'Bachelor semestre 4', 'Bachelor semestre 5', 'Bachelor semestre 6']\n",
    "sem_value = []\n",
    "for sem in semesters:\n",
    "    sem_value.append(int([op['value'] for op in soup.find_all('td')[4].find_all('option') if op.text==sem][0]))\n",
    "\n",
    "master_semesters = ['Master semestre 1', 'Master semestre 2', 'Master semestre 3', 'Master semestre 4', 'Mineur semestre 1', 'Mineur semestre 2', 'Projet Master automne', 'Projet Master printemps']\n",
    "master_sem_value = []\n",
    "for sem in master_semesters:\n",
    "    master_sem_value.append(int([op['value'] for op in soup.find_all('td')[4].find_all('option') if op.text==sem][0]))\n"
   ]
  },
  {
   "cell_type": "markdown",
   "metadata": {},
   "source": [
    "This section will extract all the data for Bachelor students. url is generated based on the values computed in the previous section. Then 'requests' library is used to get the HTML data for each page. 'BeautifulSoup' is then used to parse the HTML to get the required data. \n",
    "\n",
    "The parsed data is stored as Pandas dataframe with the following columns: 'Name', 'Sex', 'Year', 'Semester'.\n",
    "Data from all semesters and all years are then appended to the dataframe to collate all the records."
   ]
  },
  {
   "cell_type": "code",
   "execution_count": 15,
   "metadata": {
    "collapsed": false
   },
   "outputs": [],
   "source": [
    "UNITE_ACAD = str(section_value[0])   #Informatique value\n",
    "\n",
    "sem_num = [1, 2, 3, 4, 5, 6] # '5b' and '6b': not included, since no results are returned\n",
    "start_year = range(2007,2017)\n",
    "\n",
    "bachelor_data = pd.DataFrame()\n",
    "\n",
    "year_idx=0; sem_idx=0\n",
    "for year in years:                                 # Loop through all years\n",
    "    PERIODE_ACAD = str(year_value[year_idx])       # Value for year\n",
    "    sem_idx=0\n",
    "    \n",
    "    for sem in semesters:                          # Loop through all semesters\n",
    "        PERIODE_PEDAGO = str(sem_value[sem_idx])   # Value for semester\n",
    "        \n",
    "        ### Form URL using the above extracted values\n",
    "        url = 'http://isa.epfl.ch/imoniteur_ISAP/!GEDPUBLICREPORTS.html?ww_x_GPS=-1&ww_i_reportModel=133685247' +  \\\n",
    "                '&ww_i_reportModelXsl=133685270&ww_x_UNITE_ACAD='+ UNITE_ACAD + '&ww_x_PERIODE_ACAD=' + PERIODE_ACAD + \\\n",
    "                '&ww_x_PERIODE_PEDAGO=' + PERIODE_PEDAGO + '&ww_x_HIVERETE=null'\n",
    "        \n",
    "        #print(url)\n",
    "        r = requests.get(url)\n",
    "        soup = BeautifulSoup(r.text,'html.parser')\n",
    "        #print(soup.prettify())\n",
    "        \n",
    "        sex = [s.text for s in soup.find_all('td')[0::12]]\n",
    "        sciper = [s.text for s in soup.find_all('td')[10::12]]\n",
    "        y = [start_year[year_idx]]*len(sciper)\n",
    "        s = [sem_num[sem_idx]]*len(sciper)\n",
    "        bachelor_data = bachelor_data.append(pd.DataFrame({'sciper':sciper,'sex':sex,'start_year':y,'semester':s}))\n",
    "        sem_idx+=1\n",
    "\n",
    "    year_idx+=1\n"
   ]
  },
  {
   "cell_type": "markdown",
   "metadata": {},
   "source": [
    "Total number of entries from 2007-2016: 5807 <br>\n",
    "Total number of entries in both semester1 and semester6: 2812 <br>\n",
    "Total number of students with entries in semester6: 664. <br> <br>89 of them were in first 2 years for which earlier data is unavailable. Remaining is 575. But a number of students had multiple entries for semester6. Taking this into account, the final count for the number of students completing their Bachelors (Semester1 through Semester6) is 397. Semesters '5b' and '6b' are not included since they returned empty list for all years. "
   ]
  },
  {
   "cell_type": "code",
   "execution_count": 153,
   "metadata": {
    "collapsed": false
   },
   "outputs": [
    {
     "data": {
      "text/html": [
       "<div>\n",
       "<table border=\"1\" class=\"dataframe\">\n",
       "  <thead>\n",
       "    <tr style=\"text-align: right;\">\n",
       "      <th></th>\n",
       "      <th>sex</th>\n",
       "    </tr>\n",
       "    <tr>\n",
       "      <th>sciper</th>\n",
       "      <th></th>\n",
       "    </tr>\n",
       "  </thead>\n",
       "  <tbody>\n",
       "    <tr>\n",
       "      <th>147008</th>\n",
       "      <td>Monsieur</td>\n",
       "    </tr>\n",
       "    <tr>\n",
       "      <th>169569</th>\n",
       "      <td>Monsieur</td>\n",
       "    </tr>\n",
       "    <tr>\n",
       "      <th>169731</th>\n",
       "      <td>Monsieur</td>\n",
       "    </tr>\n",
       "    <tr>\n",
       "      <th>169795</th>\n",
       "      <td>Monsieur</td>\n",
       "    </tr>\n",
       "    <tr>\n",
       "      <th>171195</th>\n",
       "      <td>Monsieur</td>\n",
       "    </tr>\n",
       "  </tbody>\n",
       "</table>\n",
       "</div>"
      ],
      "text/plain": [
       "             sex\n",
       "sciper          \n",
       "147008  Monsieur\n",
       "169569  Monsieur\n",
       "169731  Monsieur\n",
       "169795  Monsieur\n",
       "171195  Monsieur"
      ]
     },
     "execution_count": 153,
     "metadata": {},
     "output_type": "execute_result"
    }
   ],
   "source": [
    "## Retain only those students with entries in both semester 1 and semester 6.\n",
    "## Group by each student's sciper and filter \n",
    "bachelor_data_6sem = bachelor_data.groupby('sciper').filter(lambda x: (x['semester'].max()-x['semester'].min())==5)\n",
    "\n",
    "## Sort by sciper and drop duplicate entries to retain only unique students\n",
    "## After this operation, the total number of students is 397\n",
    "bachelor_data_unique = bachelor_data_6sem.sort_values(['sciper','semester'])[['sciper','sex']].drop_duplicates()\n",
    "\n",
    "## Set sciper as index, since entries are unique\n",
    "bachelor_data_unique = bachelor_data_unique.set_index('sciper')\n",
    "bachelor_data_unique.head()"
   ]
  },
  {
   "cell_type": "code",
   "execution_count": 439,
   "metadata": {
    "collapsed": false
   },
   "outputs": [
    {
     "data": {
      "text/html": [
       "<div>\n",
       "<table border=\"1\" class=\"dataframe\">\n",
       "  <thead>\n",
       "    <tr style=\"text-align: right;\">\n",
       "      <th></th>\n",
       "      <th>sex</th>\n",
       "      <th>duration</th>\n",
       "    </tr>\n",
       "    <tr>\n",
       "      <th>sciper</th>\n",
       "      <th></th>\n",
       "      <th></th>\n",
       "    </tr>\n",
       "  </thead>\n",
       "  <tbody>\n",
       "    <tr>\n",
       "      <th>147008</th>\n",
       "      <td>Monsieur</td>\n",
       "      <td>36</td>\n",
       "    </tr>\n",
       "    <tr>\n",
       "      <th>169569</th>\n",
       "      <td>Monsieur</td>\n",
       "      <td>36</td>\n",
       "    </tr>\n",
       "    <tr>\n",
       "      <th>169731</th>\n",
       "      <td>Monsieur</td>\n",
       "      <td>48</td>\n",
       "    </tr>\n",
       "    <tr>\n",
       "      <th>169795</th>\n",
       "      <td>Monsieur</td>\n",
       "      <td>54</td>\n",
       "    </tr>\n",
       "    <tr>\n",
       "      <th>171195</th>\n",
       "      <td>Monsieur</td>\n",
       "      <td>36</td>\n",
       "    </tr>\n",
       "  </tbody>\n",
       "</table>\n",
       "</div>"
      ],
      "text/plain": [
       "             sex  duration\n",
       "sciper                    \n",
       "147008  Monsieur        36\n",
       "169569  Monsieur        36\n",
       "169731  Monsieur        48\n",
       "169795  Monsieur        54\n",
       "171195  Monsieur        36"
      ]
     },
     "execution_count": 439,
     "metadata": {},
     "output_type": "execute_result"
    }
   ],
   "source": [
    "## Get duration in months based on difference between semester1 and semester6\n",
    "#def get_duration_months(group):\n",
    "#    return (group.max()-group.min()+1)*12\n",
    "\n",
    "## Group by sciper and count number of semesters (and thereby number of months spent) for each student\n",
    "#duration_months = bachelor_data_6sem[['start_year']].groupby(bachelor_data_6sem['sciper']).apply(get_duration_months)\n",
    "duration_months = bachelor_data_6sem[['start_year']].groupby(bachelor_data_6sem['sciper']).apply(lambda x: x.count()*6)\n",
    "\n",
    "## Concatenate the duration computed to the dataframe with sciper and sex information\n",
    "bachelor_data_duration = pd.concat([bachelor_data_unique,duration_months],axis=1)\n",
    "## Rename columns\n",
    "bachelor_data_duration = bachelor_data_duration.rename(columns={\"start_year\": \"duration\"})\n",
    "bachelor_data_duration.head()\n",
    "#duration_months"
   ]
  },
  {
   "cell_type": "markdown",
   "metadata": {},
   "source": [
    "Using group by on the 'sex' column, the mean duration for 'Madame' and 'Monsieur' are 40.75 and 42.63 respectively as seen in the next cell. The following section will determine if this difference is statistically significant"
   ]
  },
  {
   "cell_type": "code",
   "execution_count": 436,
   "metadata": {
    "collapsed": false
   },
   "outputs": [
    {
     "data": {
      "text/html": [
       "<div>\n",
       "<table border=\"1\" class=\"dataframe\">\n",
       "  <thead>\n",
       "    <tr style=\"text-align: right;\">\n",
       "      <th></th>\n",
       "      <th></th>\n",
       "      <th>duration</th>\n",
       "    </tr>\n",
       "    <tr>\n",
       "      <th>sex</th>\n",
       "      <th></th>\n",
       "      <th></th>\n",
       "    </tr>\n",
       "  </thead>\n",
       "  <tbody>\n",
       "    <tr>\n",
       "      <th rowspan=\"8\" valign=\"top\">Madame</th>\n",
       "      <th>count</th>\n",
       "      <td>29.000000</td>\n",
       "    </tr>\n",
       "    <tr>\n",
       "      <th>mean</th>\n",
       "      <td>40.758621</td>\n",
       "    </tr>\n",
       "    <tr>\n",
       "      <th>std</th>\n",
       "      <td>8.078433</td>\n",
       "    </tr>\n",
       "    <tr>\n",
       "      <th>min</th>\n",
       "      <td>36.000000</td>\n",
       "    </tr>\n",
       "    <tr>\n",
       "      <th>25%</th>\n",
       "      <td>36.000000</td>\n",
       "    </tr>\n",
       "    <tr>\n",
       "      <th>50%</th>\n",
       "      <td>36.000000</td>\n",
       "    </tr>\n",
       "    <tr>\n",
       "      <th>75%</th>\n",
       "      <td>48.000000</td>\n",
       "    </tr>\n",
       "    <tr>\n",
       "      <th>max</th>\n",
       "      <td>66.000000</td>\n",
       "    </tr>\n",
       "    <tr>\n",
       "      <th rowspan=\"8\" valign=\"top\">Monsieur</th>\n",
       "      <th>count</th>\n",
       "      <td>368.000000</td>\n",
       "    </tr>\n",
       "    <tr>\n",
       "      <th>mean</th>\n",
       "      <td>42.635870</td>\n",
       "    </tr>\n",
       "    <tr>\n",
       "      <th>std</th>\n",
       "      <td>9.221348</td>\n",
       "    </tr>\n",
       "    <tr>\n",
       "      <th>min</th>\n",
       "      <td>24.000000</td>\n",
       "    </tr>\n",
       "    <tr>\n",
       "      <th>25%</th>\n",
       "      <td>36.000000</td>\n",
       "    </tr>\n",
       "    <tr>\n",
       "      <th>50%</th>\n",
       "      <td>36.000000</td>\n",
       "    </tr>\n",
       "    <tr>\n",
       "      <th>75%</th>\n",
       "      <td>48.000000</td>\n",
       "    </tr>\n",
       "    <tr>\n",
       "      <th>max</th>\n",
       "      <td>72.000000</td>\n",
       "    </tr>\n",
       "  </tbody>\n",
       "</table>\n",
       "</div>"
      ],
      "text/plain": [
       "                  duration\n",
       "sex                       \n",
       "Madame   count   29.000000\n",
       "         mean    40.758621\n",
       "         std      8.078433\n",
       "         min     36.000000\n",
       "         25%     36.000000\n",
       "         50%     36.000000\n",
       "         75%     48.000000\n",
       "         max     66.000000\n",
       "Monsieur count  368.000000\n",
       "         mean    42.635870\n",
       "         std      9.221348\n",
       "         min     24.000000\n",
       "         25%     36.000000\n",
       "         50%     36.000000\n",
       "         75%     48.000000\n",
       "         max     72.000000"
      ]
     },
     "execution_count": 436,
     "metadata": {},
     "output_type": "execute_result"
    }
   ],
   "source": [
    "bachelor_data_duration.groupby('sex').describe()"
   ]
  },
  {
   "cell_type": "markdown",
   "metadata": {},
   "source": [
    "It can be noted that the number of male and female students are 368 and 29 respectively. Thus the sample size is small. The histogram is shown in the following figure"
   ]
  },
  {
   "cell_type": "code",
   "execution_count": 437,
   "metadata": {
    "collapsed": false
   },
   "outputs": [
    {
     "data": {
      "text/plain": [
       "array([<matplotlib.axes._subplots.AxesSubplot object at 0x1211d0f60>,\n",
       "       <matplotlib.axes._subplots.AxesSubplot object at 0x11f2a4b38>], dtype=object)"
      ]
     },
     "execution_count": 437,
     "metadata": {},
     "output_type": "execute_result"
    },
    {
     "data": {
      "image/png": "[encoded data removed]",
      "text/plain": [
       "<matplotlib.figure.Figure at 0x12100b710>"
      ]
     },
     "metadata": {},
     "output_type": "display_data"
    }
   ],
   "source": [
    "bachelor_data_duration['duration'].hist(by=bachelor_data_duration['sex'])"
   ]
  },
  {
   "cell_type": "markdown",
   "metadata": {},
   "source": [
    "<b>Selecting a suitable statistical test</b> <br> There are two samples (Male, Female). But the distribution is not normal. The samples are not paired and therefore the 'Mann Whitney' test would be appropriate"
   ]
  },
  {
   "cell_type": "code",
   "execution_count": 438,
   "metadata": {
    "collapsed": false
   },
   "outputs": [
    {
     "data": {
      "text/plain": [
       "MannwhitneyuResult(statistic=4690.5, pvalue=0.11499327388541769)"
      ]
     },
     "execution_count": 438,
     "metadata": {},
     "output_type": "execute_result"
    }
   ],
   "source": [
    "x = bachelor_data_duration[bachelor_data_duration['sex']=='Monsieur']['duration']\n",
    "y = bachelor_data_duration[bachelor_data_duration['sex']=='Madame']['duration']\n",
    "\n",
    "stats.mannwhitneyu(x, y)"
   ]
  },
  {
   "cell_type": "markdown",
   "metadata": {},
   "source": [
    "### Conclusion for Bachelor students data:"
   ]
  },
  {
   "cell_type": "markdown",
   "metadata": {},
   "source": [
    "The null hypothesis is that the mean duration for both male and female students to graduate is not different. The p-value obtained is above the threshold of 0.05 for 95% confidence interval. Thus the null hypothesis cannot be rejected and we can conclude that the difference in duration for male and female students to graduate is not statistically significant. <br>\n",
    "\n",
    "Further it is to be noted that the number of female students in this analysis is extremely small to draw any reliable conclusions.\n"
   ]
  },
  {
   "cell_type": "markdown",
   "metadata": {},
   "source": [
    "## 2. Master students"
   ]
  },
  {
   "cell_type": "code",
   "execution_count": null,
   "metadata": {
    "collapsed": false
   },
   "outputs": [],
   "source": [
    "UNITE_ACAD = str(section_value[0])   #Informatique value\n",
    "\n",
    "sem_num = [1, 2, 3, 4, 5, 6, 7, 8] #Maps to [1,2,3,4,Minor1,Minor2,Project Fall,Project Spring]\n",
    "start_year = range(2007,2017)\n",
    "\n",
    "master_data = pd.DataFrame()\n",
    "\n",
    "year_idx=0; sem_idx=0\n",
    "for year in start_year:                            # Loop through all years\n",
    "    PERIODE_ACAD = str(year_value[year_idx])       # Value for year\n",
    "    sem_idx=0\n",
    "    \n",
    "    for sem in sem_num:                          # Loop through all semesters\n",
    "        PERIODE_PEDAGO = str(master_sem_value[sem_idx])   # Value for semester\n",
    "        \n",
    "        if (not ((year==2007 and sem>1) or (year==2008 and sem>2) or (year==2016 and sem==1))):\n",
    "            print(year)\n",
    "            print(sem)\n",
    "            ### Form URL using the above extracted values\n",
    "            url = 'http://isa.epfl.ch/imoniteur_ISAP/!GEDPUBLICREPORTS.html?ww_x_GPS=-1&ww_i_reportModel=133685247' +  \\\n",
    "                    '&ww_i_reportModelXsl=133685270&ww_x_UNITE_ACAD='+ UNITE_ACAD + '&ww_x_PERIODE_ACAD=' + PERIODE_ACAD + \\\n",
    "                    '&ww_x_PERIODE_PEDAGO=' + PERIODE_PEDAGO + '&ww_x_HIVERETE=null'\n",
    "\n",
    "            #print(url)\n",
    "            #\"\"\"\n",
    "            r = requests.get(url)\n",
    "            soup = BeautifulSoup(r.text,'html.parser')\n",
    "            #print(soup.prettify())\n",
    "\n",
    "\n",
    "            sex = [s.text for s in soup.find_all('td')[0::12]]\n",
    "            #names = [n.text for n in soup.find_all('td')[1::12]]\n",
    "            #name = [re.sub('\\xa0', '', n) for n in names]\n",
    "            sciper = [s.text for s in soup.find_all('td')[10::12]]\n",
    "            special = [s.text for s in soup.find_all('td')[4::12]]\n",
    "            minor = [s.text for s in soup.find_all('td')[6::12]]\n",
    "            y = [start_year[year_idx]]*len(sciper)\n",
    "            s = [sem_num[sem_idx]]*len(sciper)\n",
    "            master_data = master_data.append(pd.DataFrame({'sciper':sciper,'sex':sex,'specail':special,'minor':minor, 'start_year':y,'semester':s}))\n",
    "        \n",
    "        sem_idx+=1\n",
    "\n",
    "    year_idx+=1"
   ]
  },
  {
   "cell_type": "markdown",
   "metadata": {},
   "source": [
    "The total number of entries in Masters Students data is 2488 (students in 2nd and 3rd semester in 2007 and 2nd semester in 2008 are not included, since 1st semester data is unavailable). <br>\n",
    "\n",
    "The entries are grouped by 'sciper' and the histogram of the time spent(in months) by all the students is as shown below."
   ]
  },
  {
   "cell_type": "code",
   "execution_count": 279,
   "metadata": {
    "collapsed": false
   },
   "outputs": [
    {
     "data": {
      "text/plain": [
       "<matplotlib.axes._subplots.AxesSubplot at 0x11eaf7668>"
      ]
     },
     "execution_count": 279,
     "metadata": {},
     "output_type": "execute_result"
    },
    {
     "data": {
      "image/png": "[encoded data removed]",
      "text/plain": [
       "<matplotlib.figure.Figure at 0x11eebd518>"
      ]
     },
     "metadata": {},
     "output_type": "display_data"
    }
   ],
   "source": [
    "master_data['sciper'].groupby(master_data['sciper']).apply(lambda x: x.count()*6).hist(bins=[6, 12, 18, 24, 30, 36, 42])"
   ]
  },
  {
   "cell_type": "markdown",
   "metadata": {},
   "source": [
    "The time spent by the students can be computed by grouping the entries by 'sciper' and counting the number of semesters for each student. The average time spent is 18.87 months."
   ]
  },
  {
   "cell_type": "code",
   "execution_count": 418,
   "metadata": {
    "collapsed": false
   },
   "outputs": [
    {
     "data": {
      "text/plain": [
       "18.872313527180783"
      ]
     },
     "execution_count": 418,
     "metadata": {},
     "output_type": "execute_result"
    }
   ],
   "source": [
    "duration_months = pd.DataFrame({'average_stay': master_data['sciper'].groupby(master_data['sciper']).apply(lambda x: x.count()*6)})\n",
    "average_stay_all = np.mean(master_data_duration['average_stay'])\n",
    "average_stay_all"
   ]
  },
  {
   "cell_type": "code",
   "execution_count": 421,
   "metadata": {
    "collapsed": false
   },
   "outputs": [
    {
     "data": {
      "text/html": [
       "<div>\n",
       "<table border=\"1\" class=\"dataframe\">\n",
       "  <thead>\n",
       "    <tr style=\"text-align: right;\">\n",
       "      <th></th>\n",
       "      <th>sex</th>\n",
       "      <th>average_stay</th>\n",
       "    </tr>\n",
       "    <tr>\n",
       "      <th>sciper</th>\n",
       "      <th></th>\n",
       "      <th></th>\n",
       "    </tr>\n",
       "  </thead>\n",
       "  <tbody>\n",
       "    <tr>\n",
       "      <th>138088</th>\n",
       "      <td>Monsieur</td>\n",
       "      <td>6</td>\n",
       "    </tr>\n",
       "    <tr>\n",
       "      <th>146330</th>\n",
       "      <td>Monsieur</td>\n",
       "      <td>6</td>\n",
       "    </tr>\n",
       "    <tr>\n",
       "      <th>146742</th>\n",
       "      <td>Monsieur</td>\n",
       "      <td>42</td>\n",
       "    </tr>\n",
       "    <tr>\n",
       "      <th>146929</th>\n",
       "      <td>Monsieur</td>\n",
       "      <td>6</td>\n",
       "    </tr>\n",
       "    <tr>\n",
       "      <th>147008</th>\n",
       "      <td>Monsieur</td>\n",
       "      <td>24</td>\n",
       "    </tr>\n",
       "  </tbody>\n",
       "</table>\n",
       "</div>"
      ],
      "text/plain": [
       "             sex  average_stay\n",
       "sciper                        \n",
       "138088  Monsieur             6\n",
       "146330  Monsieur             6\n",
       "146742  Monsieur            42\n",
       "146929  Monsieur             6\n",
       "147008  Monsieur            24"
      ]
     },
     "execution_count": 421,
     "metadata": {},
     "output_type": "execute_result"
    }
   ],
   "source": [
    "## Concatenate the duration computed with other data for each student\n",
    "master_data_unique = master_data.sort_values(['sciper','semester'])[['sciper','sex']].drop_duplicates()\n",
    "master_data_unique = master_data_unique.set_index('sciper')\n",
    "master_data_duration = pd.concat([master_data_unique, duration_months], axis=1)\n",
    "master_data_duration.head()"
   ]
  },
  {
   "cell_type": "markdown",
   "metadata": {},
   "source": [
    "Next, only those students who had taken specialisation are selected. There are 231 such students. But 5 of those students had multiple specialisations. These entries are considered as outliers and are removed before further processing. This should not affect the overall results since the number of students with such multiple specialisations is only 5."
   ]
  },
  {
   "cell_type": "code",
   "execution_count": 422,
   "metadata": {
    "collapsed": false
   },
   "outputs": [
    {
     "data": {
      "text/html": [
       "<div>\n",
       "<table border=\"1\" class=\"dataframe\">\n",
       "  <thead>\n",
       "    <tr style=\"text-align: right;\">\n",
       "      <th></th>\n",
       "      <th>sex</th>\n",
       "      <th>specail</th>\n",
       "    </tr>\n",
       "    <tr>\n",
       "      <th>sciper</th>\n",
       "      <th></th>\n",
       "      <th></th>\n",
       "    </tr>\n",
       "  </thead>\n",
       "  <tbody>\n",
       "    <tr>\n",
       "      <th>146742</th>\n",
       "      <td>Monsieur</td>\n",
       "      <td>Signals, Images and Interfaces</td>\n",
       "    </tr>\n",
       "    <tr>\n",
       "      <th>147008</th>\n",
       "      <td>Monsieur</td>\n",
       "      <td>Signals, Images and Interfaces</td>\n",
       "    </tr>\n",
       "    <tr>\n",
       "      <th>153066</th>\n",
       "      <td>Monsieur</td>\n",
       "      <td>Internet computing</td>\n",
       "    </tr>\n",
       "    <tr>\n",
       "      <th>154080</th>\n",
       "      <td>Monsieur</td>\n",
       "      <td>Internet computing</td>\n",
       "    </tr>\n",
       "    <tr>\n",
       "      <th>154573</th>\n",
       "      <td>Madame</td>\n",
       "      <td>Biocomputing</td>\n",
       "    </tr>\n",
       "  </tbody>\n",
       "</table>\n",
       "</div>"
      ],
      "text/plain": [
       "             sex                         specail\n",
       "sciper                                          \n",
       "146742  Monsieur  Signals, Images and Interfaces\n",
       "147008  Monsieur  Signals, Images and Interfaces\n",
       "153066  Monsieur              Internet computing\n",
       "154080  Monsieur              Internet computing\n",
       "154573    Madame                    Biocomputing"
      ]
     },
     "execution_count": 422,
     "metadata": {},
     "output_type": "execute_result"
    }
   ],
   "source": [
    "## Select only those students with specialisation\n",
    "master_data_special = master_data[master_data['specail'] != '']\n",
    "master_data_special = master_data_special.sort_values(['sciper'])[['sciper','sex','specail']].drop_duplicates()\n",
    "\n",
    "## Remove students with multiple specialisations\n",
    "master_data_special = master_data_special.groupby('sciper').filter(lambda x: x['sciper'].count()==1)\n",
    "master_data_special = master_data_special.set_index('sciper')\n",
    "master_data_special.head()"
   ]
  },
  {
   "cell_type": "code",
   "execution_count": 423,
   "metadata": {
    "collapsed": false
   },
   "outputs": [
    {
     "data": {
      "text/html": [
       "<div>\n",
       "<table border=\"1\" class=\"dataframe\">\n",
       "  <thead>\n",
       "    <tr style=\"text-align: right;\">\n",
       "      <th></th>\n",
       "      <th>sex</th>\n",
       "      <th>duration</th>\n",
       "      <th>sex</th>\n",
       "      <th>special</th>\n",
       "    </tr>\n",
       "    <tr>\n",
       "      <th>sciper</th>\n",
       "      <th></th>\n",
       "      <th></th>\n",
       "      <th></th>\n",
       "      <th></th>\n",
       "    </tr>\n",
       "  </thead>\n",
       "  <tbody>\n",
       "    <tr>\n",
       "      <th>146742</th>\n",
       "      <td>Monsieur</td>\n",
       "      <td>42</td>\n",
       "      <td>Monsieur</td>\n",
       "      <td>Signals, Images and Interfaces</td>\n",
       "    </tr>\n",
       "    <tr>\n",
       "      <th>147008</th>\n",
       "      <td>Monsieur</td>\n",
       "      <td>24</td>\n",
       "      <td>Monsieur</td>\n",
       "      <td>Signals, Images and Interfaces</td>\n",
       "    </tr>\n",
       "    <tr>\n",
       "      <th>153066</th>\n",
       "      <td>Monsieur</td>\n",
       "      <td>24</td>\n",
       "      <td>Monsieur</td>\n",
       "      <td>Internet computing</td>\n",
       "    </tr>\n",
       "    <tr>\n",
       "      <th>154080</th>\n",
       "      <td>Monsieur</td>\n",
       "      <td>18</td>\n",
       "      <td>Monsieur</td>\n",
       "      <td>Internet computing</td>\n",
       "    </tr>\n",
       "    <tr>\n",
       "      <th>154573</th>\n",
       "      <td>Madame</td>\n",
       "      <td>24</td>\n",
       "      <td>Madame</td>\n",
       "      <td>Biocomputing</td>\n",
       "    </tr>\n",
       "  </tbody>\n",
       "</table>\n",
       "</div>"
      ],
      "text/plain": [
       "             sex  duration       sex                         special\n",
       "sciper                                                              \n",
       "146742  Monsieur        42  Monsieur  Signals, Images and Interfaces\n",
       "147008  Monsieur        24  Monsieur  Signals, Images and Interfaces\n",
       "153066  Monsieur        24  Monsieur              Internet computing\n",
       "154080  Monsieur        18  Monsieur              Internet computing\n",
       "154573    Madame        24    Madame                    Biocomputing"
      ]
     },
     "execution_count": 423,
     "metadata": {},
     "output_type": "execute_result"
    }
   ],
   "source": [
    "## Concatenate the duration and list of students with specialisation\n",
    "master_data_final = pd.concat([master_data_duration, master_data_special], axis=1, join='inner')\n",
    "master_data_final = master_data_final.rename(columns={\"average_stay\":\"duration\",\"specail\":\"special\"})\n",
    "master_data_final.head()"
   ]
  },
  {
   "cell_type": "markdown",
   "metadata": {},
   "source": [
    "The number of students with each specialisation is shown below. It is to be noted that the number of students for few specialisations are very less and therefore it is not possible to draw any conclusions for such specialisations."
   ]
  },
  {
   "cell_type": "code",
   "execution_count": 425,
   "metadata": {
    "collapsed": false
   },
   "outputs": [
    {
     "data": {
      "text/plain": [
       "special\n",
       "Biocomputing                       4\n",
       "Computer Engineering - SP         19\n",
       "Computer Science Theory            1\n",
       "Data Analytics                     5\n",
       "Foundations of Software           54\n",
       "Information Security - SP          7\n",
       "Internet Information Systems       1\n",
       "Internet computing                84\n",
       "Service science                    3\n",
       "Signals, Images and Interfaces    27\n",
       "Software Systems                  16\n",
       "dtype: int64"
      ]
     },
     "execution_count": 425,
     "metadata": {},
     "output_type": "execute_result"
    }
   ],
   "source": [
    "master_data_final.groupby('special').apply(lambda x: x['special'].count())"
   ]
  },
  {
   "cell_type": "markdown",
   "metadata": {},
   "source": [
    "The average time spent (in months) for each specialisation is then computed. The \"average_stay\" at EPFL for all the students was earlier determined as 18.87. "
   ]
  },
  {
   "cell_type": "code",
   "execution_count": 428,
   "metadata": {
    "collapsed": false
   },
   "outputs": [
    {
     "data": {
      "text/plain": [
       "special\n",
       "Biocomputing                      16.500\n",
       "Computer Engineering - SP         22.421\n",
       "Computer Science Theory           18.000\n",
       "Data Analytics                    14.400\n",
       "Foundations of Software           23.778\n",
       "Information Security - SP         21.429\n",
       "Internet Information Systems      18.000\n",
       "Internet computing                22.429\n",
       "Service science                   22.000\n",
       "Signals, Images and Interfaces    25.333\n",
       "Software Systems                  21.000\n",
       "dtype: float64"
      ]
     },
     "execution_count": 428,
     "metadata": {},
     "output_type": "execute_result"
    }
   ],
   "source": [
    "master_data_final.groupby('special').apply(lambda x: np.mean(x['duration'])).round(3)"
   ]
  },
  {
   "cell_type": "markdown",
   "metadata": {},
   "source": [
    "Finally we can determine if the above results are statistically significant. We have a population (with all the students) and the sample (students with each specialisation). <br> \n",
    "Null Hypothesis: The mean time spent by sample (specialisation) and the population (overall) is same. <br>\n",
    "The samples are normally distributed and thereby one-sample t-test would be appropriate."
   ]
  },
  {
   "cell_type": "code",
   "execution_count": 405,
   "metadata": {
    "collapsed": false,
    "scrolled": true
   },
   "outputs": [
    {
     "name": "stdout",
     "output_type": "stream",
     "text": [
      "Signals, Images and Interfaces\n",
      "Ttest_1sampResult(statistic=4.3679134130383908, pvalue=0.00017818153176245985)\n",
      "Internet computing\n",
      "Ttest_1sampResult(statistic=4.7136229229028261, pvalue=9.6910213002374536e-06)\n",
      "Biocomputing\n",
      "Ttest_1sampResult(statistic=-0.62844120557080996, pvalue=0.57430426386649391)\n",
      "Foundations of Software\n",
      "Ttest_1sampResult(statistic=5.0195944558059935, pvalue=6.1979277951052156e-06)\n",
      "Service science\n",
      "Ttest_1sampResult(statistic=0.78192161820480433, pvalue=0.51613255572659578)\n",
      "Computer Engineering - SP\n",
      "Ttest_1sampResult(statistic=2.9568275854438131, pvalue=0.0084407815488575476)\n",
      "Software Systems\n",
      "Ttest_1sampResult(statistic=1.9423031274361464, pvalue=0.071118172773421959)\n",
      "Information Security - SP\n",
      "Ttest_1sampResult(statistic=1.1550401660813268, pvalue=0.29199198989675895)\n",
      "Data Analytics\n",
      "Ttest_1sampResult(statistic=-1.8634639696586595, pvalue=0.13585461989456588)\n",
      "Internet Information Systems\n",
      "Ttest_1sampResult(statistic=nan, pvalue=nan)\n",
      "Computer Science Theory\n",
      "Ttest_1sampResult(statistic=nan, pvalue=nan)\n"
     ]
    },
    {
     "name": "stderr",
     "output_type": "stream",
     "text": [
      "/Users/nesara/anaconda/lib/python3.5/site-packages/numpy/core/_methods.py:82: RuntimeWarning: Degrees of freedom <= 0 for slice\n",
      "  warnings.warn(\"Degrees of freedom <= 0 for slice\", RuntimeWarning)\n"
     ]
    }
   ],
   "source": [
    "count=0\n",
    "for sp in master_data_final['special'].unique():\n",
    "    print(sp)\n",
    "    tmp = master_data_final[master_data_final['special']==sp]\n",
    "    print(stats.ttest_1samp(a= tmp['duration'], popmean= average_stay_all))\n",
    "    \n",
    "    ## Compare histograms of population and sample for each specialisation\n",
    "    #fig = plt.figure()\n",
    "    #ax = fig.add_subplot(111)\n",
    "    #_ = ax.hist(duration_months['average_stay'].tolist())\n",
    "    #_ = ax.hist(tmp['duration'].tolist(), color='red', alpha=.3)\n",
    "    count+=1"
   ]
  },
  {
   "cell_type": "markdown",
   "metadata": {},
   "source": [
    "### Conclusion for Master students data:"
   ]
  },
  {
   "cell_type": "markdown",
   "metadata": {},
   "source": [
    "Considering a confidence interval of 95%, the p-values for the following specialisations are less than 0.05. <br>\n",
    "<ul>\n",
    "<li>Signals, Images and Interfaces </li>\n",
    "<li>Internet computing</li>\n",
    "<li>Foundations of Software</li>\n",
    "<li>Computer Engineering - SP</li> <br>\n",
    "Based on this, we can reject the null hypothesis for the above specialisations and conclude that the average time spent by students with these specialisations is more than the overall average stay and that these results are statistically significant."
   ]
  }
 ],
 "metadata": {
  "anaconda-cloud": {},
  "kernelspec": {
   "display_name": "Python [Root]",
   "language": "python",
   "name": "Python [Root]"
  },
  "language_info": {
   "codemirror_mode": {
    "name": "ipython",
    "version": 3
   },
   "file_extension": ".py",
   "mimetype": "text/x-python",
   "name": "python",
   "nbconvert_exporter": "python",
   "pygments_lexer": "ipython3",
   "version": "3.5.2"
  }
 },
 "nbformat": 4,
 "nbformat_minor": 0
}
