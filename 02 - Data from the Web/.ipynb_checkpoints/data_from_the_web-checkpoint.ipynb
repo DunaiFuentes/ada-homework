{
 "cells": [
  {
   "cell_type": "markdown",
   "metadata": {},
   "source": [
    "# Data from the web"
   ]
  },
  {
   "cell_type": "markdown",
   "metadata": {},
   "source": [
    "This work aims to collect and analyse the studnet data from IS-Academia portal of EPFL. The objective is to study the average time spent by the male and female bachelor students and also to determine if average time spent by Master students is different for students with any specific specialisation."
   ]
  },
  {
   "cell_type": "code",
<<<<<<< HEAD
   "execution_count": 7,
=======
   "execution_count": 2,
>>>>>>> master
   "metadata": {
    "collapsed": true
   },
   "outputs": [],
   "source": [
    "## Importing libraries\n",
    "import requests\n",
    "from bs4 import BeautifulSoup\n",
    "import numpy as np\n",
    "import pandas as pd\n",
    "import re\n",
    "%matplotlib inline\n",
    "import matplotlib.pyplot as plt\n",
<<<<<<< HEAD
    "import scipy.stats as stats"
=======
    "import scipy.stats as stats\n",
    "import pickle"
>>>>>>> master
   ]
  },
  {
   "cell_type": "markdown",
   "metadata": {},
   "source": [
    "## 1. Bachelor students"
   ]
  },
  {
   "cell_type": "markdown",
   "metadata": {},
   "source": [
    "'Requests' library is used to get the HTML data using a base url. 'BeautifulSoup' is then used to parse the HTML."
   ]
  },
  {
   "cell_type": "code",
<<<<<<< HEAD
   "execution_count": 2,
=======
   "execution_count": 3,
>>>>>>> master
   "metadata": {
    "collapsed": false
   },
   "outputs": [],
   "source": [
    "form_url = 'http://isa.epfl.ch/imoniteur_ISAP/!GEDPUBLICREPORTS.filter?ww_b_list=1&ww_i_reportmodel=133685247&ww_c_langue=&ww_i_reportModelXsl=133685270&zz_x_UNITE_ACAD=Informatique&ww_x_UNITE_ACAD=249847&zz_x_PERIODE_ACAD=2007-2008&ww_x_PERIODE_ACAD=978181&zz_x_PERIODE_PEDAGO=Bachelor+semestre+1&ww_x_PERIODE_PEDAGO=249108&zz_x_HIVERETE=&ww_x_HIVERETE=null&dummy=ok'\n",
    "r = requests.get(form_url)\n",
    "soup = BeautifulSoup(r.text, 'html.parser')"
   ]
  },
  {
   "cell_type": "markdown",
   "metadata": {},
   "source": [
    "This section will extract the form values for different parameters (section, year, semester). \n",
    "Beautifulsoup's find_all method is used to select 'option' under all 'td's. option['value'] will then give us the desired values. \n",
    "The extracted values will then be used to generate HTTP requests"
   ]
  },
  {
   "cell_type": "code",
<<<<<<< HEAD
   "execution_count": 3,
=======
   "execution_count": 4,
>>>>>>> master
   "metadata": {
    "collapsed": false
   },
   "outputs": [],
   "source": [
    "# Extracting form value for section 'Informatique'\n",
    "section_value = []\n",
    "section_value.append(int([op['value'] for op in soup.find_all('td')[2].find_all('option') if op.text=='Informatique'][0]))\n",
    "\n",
    "# Extracting form value for all the years\n",
    "years = ['2007-2008','2008-2009','2009-2010','2010-2011','2011-2012','2012-2013','2013-2014','2014-2015','2015-2016','2016-2017',]\n",
    "year_value = []\n",
    "for year in years:\n",
    "    year_value.append(int([op['value'] for op in soup.find_all('td')[3].find_all('option') if op.text==year][0]))\n",
    "\n",
    "# Extracting form value for all the Bachelor semesters (# '5b' and '6b': not included, since no results are returned)\n",
    "semesters = ['Bachelor semestre 1', 'Bachelor semestre 2', 'Bachelor semestre 3', 'Bachelor semestre 4', 'Bachelor semestre 5', 'Bachelor semestre 6']\n",
    "sem_value = []\n",
    "for sem in semesters:\n",
    "    sem_value.append(int([op['value'] for op in soup.find_all('td')[4].find_all('option') if op.text==sem][0]))\n",
    "\n",
    "master_semesters = ['Master semestre 1', 'Master semestre 2', 'Master semestre 3', 'Master semestre 4', 'Mineur semestre 1', 'Mineur semestre 2', 'Projet Master automne', 'Projet Master printemps']\n",
    "master_sem_value = []\n",
    "for sem in master_semesters:\n",
    "    master_sem_value.append(int([op['value'] for op in soup.find_all('td')[4].find_all('option') if op.text==sem][0]))\n"
   ]
  },
  {
   "cell_type": "markdown",
   "metadata": {},
   "source": [
    "This section will extract all the data for Bachelor students. url is generated based on the values computed in the previous section. Then 'requests' library is used to get the HTML data for each page. 'BeautifulSoup' is then used to parse the HTML to get the required data. \n",
    "\n",
    "The parsed data is stored as Pandas dataframe with the following columns: 'Name', 'Sex', 'Year', 'Semester'.\n",
    "Data from all semesters and all years are then appended to the dataframe to collate all the records."
   ]
  },
  {
   "cell_type": "code",
<<<<<<< HEAD
   "execution_count": 4,
=======
   "execution_count": 15,
>>>>>>> master
   "metadata": {
    "collapsed": false
   },
   "outputs": [],
   "source": [
    "UNITE_ACAD = str(section_value[0])   #Informatique value\n",
    "\n",
    "sem_num = [1, 2, 3, 4, 5, 6] # '5b' and '6b': not included, since no results are returned\n",
    "start_year = range(2007,2017)\n",
    "\n",
    "bachelor_data = pd.DataFrame()\n",
    "\n",
    "year_idx=0; sem_idx=0\n",
    "for year in years:                                 # Loop through all years\n",
    "    PERIODE_ACAD = str(year_value[year_idx])       # Value for year\n",
    "    sem_idx=0\n",
    "    \n",
    "    for sem in semesters:                          # Loop through all semesters\n",
    "        PERIODE_PEDAGO = str(sem_value[sem_idx])   # Value for semester\n",
    "        \n",
    "        ### Form URL using the above extracted values\n",
    "        url = 'http://isa.epfl.ch/imoniteur_ISAP/!GEDPUBLICREPORTS.html?ww_x_GPS=-1&ww_i_reportModel=133685247' +  \\\n",
    "                '&ww_i_reportModelXsl=133685270&ww_x_UNITE_ACAD='+ UNITE_ACAD + '&ww_x_PERIODE_ACAD=' + PERIODE_ACAD + \\\n",
    "                '&ww_x_PERIODE_PEDAGO=' + PERIODE_PEDAGO + '&ww_x_HIVERETE=null'\n",
    "        \n",
    "        #print(url)\n",
    "        r = requests.get(url)\n",
    "        soup = BeautifulSoup(r.text,'html.parser')\n",
    "        #print(soup.prettify())\n",
    "        \n",
    "        sex = [s.text for s in soup.find_all('td')[0::12]]\n",
    "        sciper = [s.text for s in soup.find_all('td')[10::12]]\n",
    "        y = [start_year[year_idx]]*len(sciper)\n",
    "        s = [sem_num[sem_idx]]*len(sciper)\n",
    "        bachelor_data = bachelor_data.append(pd.DataFrame({'sciper':sciper,'sex':sex,'start_year':y,'semester':s}))\n",
    "        sem_idx+=1\n",
    "\n",
    "    year_idx+=1\n"
   ]
  },
  {
   "cell_type": "markdown",
   "metadata": {},
   "source": [
    "Total number of entries from 2007-2016: 5807 <br>\n",
    "Total number of entries in both semester1 and semester6: 2812 <br>\n",
    "Total number of students with entries in semester6: 664. <br> <br>89 of them were in first 2 years for which earlier data is unavailable. Remaining is 575. But a number of students had multiple entries for semester6. Taking this into account, the final count for the number of students completing their Bachelors (Semester1 through Semester6) is 397. Semesters '5b' and '6b' are not included since they returned empty list for all years. "
   ]
  },
  {
   "cell_type": "code",
<<<<<<< HEAD
   "execution_count": 5,
=======
   "execution_count": 6,
>>>>>>> master
   "metadata": {
    "collapsed": false
   },
   "outputs": [
    {
     "data": {
      "text/html": [
       "<div>\n",
       "<table border=\"1\" class=\"dataframe\">\n",
       "  <thead>\n",
       "    <tr style=\"text-align: right;\">\n",
       "      <th></th>\n",
       "      <th>sex</th>\n",
       "    </tr>\n",
       "    <tr>\n",
       "      <th>sciper</th>\n",
       "      <th></th>\n",
       "    </tr>\n",
       "  </thead>\n",
       "  <tbody>\n",
       "    <tr>\n",
       "      <th>147008</th>\n",
       "      <td>Monsieur</td>\n",
       "    </tr>\n",
       "    <tr>\n",
       "      <th>169569</th>\n",
       "      <td>Monsieur</td>\n",
       "    </tr>\n",
       "    <tr>\n",
       "      <th>169731</th>\n",
       "      <td>Monsieur</td>\n",
       "    </tr>\n",
       "    <tr>\n",
       "      <th>169795</th>\n",
       "      <td>Monsieur</td>\n",
       "    </tr>\n",
       "    <tr>\n",
       "      <th>171195</th>\n",
       "      <td>Monsieur</td>\n",
       "    </tr>\n",
       "  </tbody>\n",
       "</table>\n",
       "</div>"
      ],
      "text/plain": [
       "             sex\n",
       "sciper          \n",
       "147008  Monsieur\n",
       "169569  Monsieur\n",
       "169731  Monsieur\n",
       "169795  Monsieur\n",
       "171195  Monsieur"
      ]
     },
<<<<<<< HEAD
     "execution_count": 5,
=======
     "execution_count": 6,
>>>>>>> master
     "metadata": {},
     "output_type": "execute_result"
    }
   ],
   "source": [
<<<<<<< HEAD
=======
    "#bachelor_data = pd.read_csv('bachelor_data_sciper.csv')\n",
>>>>>>> master
    "## Retain only those students with entries in both semester 1 and semester 6.\n",
    "## Group by each student's sciper and filter \n",
    "bachelor_data_6sem = bachelor_data.groupby('sciper').filter(lambda x: (x['semester'].max()-x['semester'].min())==5)\n",
    "\n",
    "## Sort by sciper and drop duplicate entries to retain only unique students\n",
    "## After this operation, the total number of students is 397\n",
    "bachelor_data_unique = bachelor_data_6sem.sort_values(['sciper','semester'])[['sciper','sex']].drop_duplicates()\n",
    "\n",
    "## Set sciper as index, since entries are unique\n",
    "bachelor_data_unique = bachelor_data_unique.set_index('sciper')\n",
    "bachelor_data_unique.head()"
   ]
  },
  {
   "cell_type": "code",
<<<<<<< HEAD
   "execution_count": 6,
=======
   "execution_count": 7,
>>>>>>> master
   "metadata": {
    "collapsed": false
   },
   "outputs": [
    {
     "data": {
      "text/html": [
       "<div>\n",
       "<table border=\"1\" class=\"dataframe\">\n",
       "  <thead>\n",
       "    <tr style=\"text-align: right;\">\n",
       "      <th></th>\n",
       "      <th>sex</th>\n",
       "      <th>duration</th>\n",
       "    </tr>\n",
       "    <tr>\n",
       "      <th>sciper</th>\n",
       "      <th></th>\n",
       "      <th></th>\n",
       "    </tr>\n",
       "  </thead>\n",
       "  <tbody>\n",
       "    <tr>\n",
       "      <th>147008</th>\n",
       "      <td>Monsieur</td>\n",
       "      <td>36</td>\n",
       "    </tr>\n",
       "    <tr>\n",
       "      <th>169569</th>\n",
       "      <td>Monsieur</td>\n",
       "      <td>36</td>\n",
       "    </tr>\n",
       "    <tr>\n",
       "      <th>169731</th>\n",
       "      <td>Monsieur</td>\n",
       "      <td>48</td>\n",
       "    </tr>\n",
       "    <tr>\n",
       "      <th>169795</th>\n",
       "      <td>Monsieur</td>\n",
       "      <td>54</td>\n",
       "    </tr>\n",
       "    <tr>\n",
       "      <th>171195</th>\n",
       "      <td>Monsieur</td>\n",
       "      <td>36</td>\n",
       "    </tr>\n",
       "  </tbody>\n",
       "</table>\n",
       "</div>"
      ],
      "text/plain": [
       "             sex  duration\n",
       "sciper                    \n",
       "147008  Monsieur        36\n",
       "169569  Monsieur        36\n",
       "169731  Monsieur        48\n",
       "169795  Monsieur        54\n",
       "171195  Monsieur        36"
      ]
     },
<<<<<<< HEAD
     "execution_count": 6,
=======
     "execution_count": 7,
>>>>>>> master
     "metadata": {},
     "output_type": "execute_result"
    }
   ],
   "source": [
    "## Get duration in months based on difference between semester1 and semester6\n",
    "#def get_duration_months(group):\n",
    "#    return (group.max()-group.min()+1)*12\n",
    "\n",
    "## Group by sciper and count number of semesters (and thereby number of months spent) for each student\n",
    "#duration_months = bachelor_data_6sem[['start_year']].groupby(bachelor_data_6sem['sciper']).apply(get_duration_months)\n",
    "duration_months = bachelor_data_6sem[['start_year']].groupby(bachelor_data_6sem['sciper']).apply(lambda x: x.count()*6)\n",
    "\n",
    "## Concatenate the duration computed to the dataframe with sciper and sex information\n",
    "bachelor_data_duration = pd.concat([bachelor_data_unique,duration_months],axis=1)\n",
    "## Rename columns\n",
    "bachelor_data_duration = bachelor_data_duration.rename(columns={\"start_year\": \"duration\"})\n",
    "bachelor_data_duration.head()\n",
    "#duration_months"
   ]
  },
  {
   "cell_type": "markdown",
   "metadata": {},
   "source": [
    "Using group by on the 'sex' column, the mean duration for 'Madame' and 'Monsieur' are 40.75 and 42.63 respectively as seen in the next cell. The following section will determine if this difference is statistically significant"
   ]
  },
  {
   "cell_type": "code",
<<<<<<< HEAD
   "execution_count": 436,
=======
   "execution_count": 8,
>>>>>>> master
   "metadata": {
    "collapsed": false
   },
   "outputs": [
    {
     "data": {
      "text/html": [
       "<div>\n",
       "<table border=\"1\" class=\"dataframe\">\n",
       "  <thead>\n",
       "    <tr style=\"text-align: right;\">\n",
       "      <th></th>\n",
       "      <th></th>\n",
       "      <th>duration</th>\n",
       "    </tr>\n",
       "    <tr>\n",
       "      <th>sex</th>\n",
       "      <th></th>\n",
       "      <th></th>\n",
       "    </tr>\n",
       "  </thead>\n",
       "  <tbody>\n",
       "    <tr>\n",
       "      <th rowspan=\"8\" valign=\"top\">Madame</th>\n",
       "      <th>count</th>\n",
       "      <td>29.000000</td>\n",
       "    </tr>\n",
       "    <tr>\n",
       "      <th>mean</th>\n",
       "      <td>40.758621</td>\n",
       "    </tr>\n",
       "    <tr>\n",
       "      <th>std</th>\n",
       "      <td>8.078433</td>\n",
       "    </tr>\n",
       "    <tr>\n",
       "      <th>min</th>\n",
       "      <td>36.000000</td>\n",
       "    </tr>\n",
       "    <tr>\n",
       "      <th>25%</th>\n",
       "      <td>36.000000</td>\n",
       "    </tr>\n",
       "    <tr>\n",
       "      <th>50%</th>\n",
       "      <td>36.000000</td>\n",
       "    </tr>\n",
       "    <tr>\n",
       "      <th>75%</th>\n",
       "      <td>48.000000</td>\n",
       "    </tr>\n",
       "    <tr>\n",
       "      <th>max</th>\n",
       "      <td>66.000000</td>\n",
       "    </tr>\n",
       "    <tr>\n",
       "      <th rowspan=\"8\" valign=\"top\">Monsieur</th>\n",
       "      <th>count</th>\n",
       "      <td>368.000000</td>\n",
       "    </tr>\n",
       "    <tr>\n",
       "      <th>mean</th>\n",
       "      <td>42.635870</td>\n",
       "    </tr>\n",
       "    <tr>\n",
       "      <th>std</th>\n",
       "      <td>9.221348</td>\n",
       "    </tr>\n",
       "    <tr>\n",
       "      <th>min</th>\n",
       "      <td>24.000000</td>\n",
       "    </tr>\n",
       "    <tr>\n",
       "      <th>25%</th>\n",
       "      <td>36.000000</td>\n",
       "    </tr>\n",
       "    <tr>\n",
       "      <th>50%</th>\n",
       "      <td>36.000000</td>\n",
       "    </tr>\n",
       "    <tr>\n",
       "      <th>75%</th>\n",
       "      <td>48.000000</td>\n",
       "    </tr>\n",
       "    <tr>\n",
       "      <th>max</th>\n",
       "      <td>72.000000</td>\n",
       "    </tr>\n",
       "  </tbody>\n",
       "</table>\n",
       "</div>"
      ],
      "text/plain": [
       "                  duration\n",
       "sex                       \n",
       "Madame   count   29.000000\n",
       "         mean    40.758621\n",
       "         std      8.078433\n",
       "         min     36.000000\n",
       "         25%     36.000000\n",
       "         50%     36.000000\n",
       "         75%     48.000000\n",
       "         max     66.000000\n",
       "Monsieur count  368.000000\n",
       "         mean    42.635870\n",
       "         std      9.221348\n",
       "         min     24.000000\n",
       "         25%     36.000000\n",
       "         50%     36.000000\n",
       "         75%     48.000000\n",
       "         max     72.000000"
      ]
     },
<<<<<<< HEAD
     "execution_count": 436,
=======
     "execution_count": 8,
>>>>>>> master
     "metadata": {},
     "output_type": "execute_result"
    }
   ],
   "source": [
    "bachelor_data_duration.groupby('sex').describe()"
   ]
  },
  {
   "cell_type": "markdown",
   "metadata": {},
   "source": [
    "It can be noted that the number of male and female students are 368 and 29 respectively. Thus the sample size is small. The histogram is shown in the following figure"
   ]
  },
  {
   "cell_type": "code",
<<<<<<< HEAD
   "execution_count": 437,
=======
   "execution_count": 9,
>>>>>>> master
   "metadata": {
    "collapsed": false
   },
   "outputs": [
    {
     "data": {
      "text/plain": [
<<<<<<< HEAD
       "array([<matplotlib.axes._subplots.AxesSubplot object at 0x1211d0f60>,\n",
       "       <matplotlib.axes._subplots.AxesSubplot object at 0x11f2a4b38>], dtype=object)"
      ]
     },
     "execution_count": 437,
=======
       "array([<matplotlib.axes._subplots.AxesSubplot object at 0x115ab03c8>,\n",
       "       <matplotlib.axes._subplots.AxesSubplot object at 0x115aeb0b8>], dtype=object)"
      ]
     },
     "execution_count": 9,
>>>>>>> master
     "metadata": {},
     "output_type": "execute_result"
    },
    {
     "data": {
<<<<<<< HEAD
      "image/png": "iVBORw0KGgoAAAANSUhEUgAAAX0AAAEGCAYAAACJnEVTAAAABHNCSVQICAgIfAhkiAAAAAlwSFlz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\nZpYQh76ZWUL+P8u/KDCfgbErAAAAAElFTkSuQmCC\n",
      "text/plain": [
       "<matplotlib.figure.Figure at 0x12100b710>"
=======
      "image/png": "iVBORw0KGgoAAAANSUhEUgAAAX0AAAEGCAYAAACJnEVTAAAABHNCSVQICAgIfAhkiAAAAAlwSFlz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\n1BBDX5IaYuhLUkMMfUlqyP8Ha0JnY4EwTLUAAAAASUVORK5CYII=\n",
      "text/plain": [
       "<matplotlib.figure.Figure at 0x117e0e9b0>"
>>>>>>> master
      ]
     },
     "metadata": {},
     "output_type": "display_data"
    }
   ],
   "source": [
<<<<<<< HEAD
    "bachelor_data_duration['duration'].hist(by=bachelor_data_duration['sex'])"
=======
    "bachelor_data_duration['duration'].hist(by=bachelor_data_duration['sex'],rwidth=0.1,range=(30,80),align='mid')\n",
    "#bachelor_data_duration['duration'].hist(by=bachelor_data_duration['Civilité'],rwidth=0.1,range=(30,80),align='mid')"
>>>>>>> master
   ]
  },
  {
   "cell_type": "markdown",
   "metadata": {},
   "source": [
<<<<<<< HEAD
    "<b>Selecting a suitable statistical test</b> <br> There are two samples (Male, Female). But the distribution is not normal. The samples are not paired and therefore the 'Mann Whitney' test would be appropriate"
=======
    "<b>Selecting a suitable statistical test</b> <br> There are two samples (Male, Female). But the distribution is not normal and therefore 'mean' would not be an appropriate metrix. The samples are not paired and therefore the 'Mann Whitney' test would be appropriate."
>>>>>>> master
   ]
  },
  {
   "cell_type": "code",
   "execution_count": 438,
   "metadata": {
    "collapsed": false
   },
   "outputs": [
    {
     "data": {
      "text/plain": [
       "MannwhitneyuResult(statistic=4690.5, pvalue=0.11499327388541769)"
      ]
     },
     "execution_count": 438,
     "metadata": {},
     "output_type": "execute_result"
    }
   ],
   "source": [
    "x = bachelor_data_duration[bachelor_data_duration['sex']=='Monsieur']['duration']\n",
    "y = bachelor_data_duration[bachelor_data_duration['sex']=='Madame']['duration']\n",
    "\n",
    "stats.mannwhitneyu(x, y)"
   ]
  },
  {
   "cell_type": "markdown",
   "metadata": {},
   "source": [
    "### Conclusion for Bachelor students data:"
   ]
  },
  {
   "cell_type": "markdown",
   "metadata": {},
   "source": [
    "The null hypothesis is that the mean duration for both male and female students to graduate is not different. The p-value obtained is above the threshold of 0.05 for 95% confidence interval. Thus the null hypothesis cannot be rejected and we can conclude that the difference in duration for male and female students to graduate is not statistically significant. <br>\n",
    "\n",
    "Further it is to be noted that the number of female students in this analysis is extremely small to draw any reliable conclusions.\n"
   ]
  },
  {
   "cell_type": "markdown",
   "metadata": {},
   "source": [
    "## 2. Master students"
   ]
  },
  {
   "cell_type": "code",
<<<<<<< HEAD
   "execution_count": null,
=======
   "execution_count": 57,
>>>>>>> master
   "metadata": {
    "collapsed": false
   },
   "outputs": [],
   "source": [
    "UNITE_ACAD = str(section_value[0])   #Informatique value\n",
    "\n",
    "sem_num = [1, 2, 3, 4, 5, 6, 7, 8] #Maps to [1,2,3,4,Minor1,Minor2,Project Fall,Project Spring]\n",
    "start_year = range(2007,2017)\n",
    "\n",
    "master_data = pd.DataFrame()\n",
    "\n",
    "year_idx=0; sem_idx=0\n",
    "for year in start_year:                            # Loop through all years\n",
    "    PERIODE_ACAD = str(year_value[year_idx])       # Value for year\n",
    "    sem_idx=0\n",
    "    \n",
    "    for sem in sem_num:                          # Loop through all semesters\n",
    "        PERIODE_PEDAGO = str(master_sem_value[sem_idx])   # Value for semester\n",
    "        \n",
    "        if (not ((year==2007 and sem>1) or (year==2008 and sem>2) or (year==2016 and sem==1))):\n",
<<<<<<< HEAD
    "            print(year)\n",
    "            print(sem)\n",
=======
    "            #print(year)\n",
    "            #print(sem)\n",
>>>>>>> master
    "            ### Form URL using the above extracted values\n",
    "            url = 'http://isa.epfl.ch/imoniteur_ISAP/!GEDPUBLICREPORTS.html?ww_x_GPS=-1&ww_i_reportModel=133685247' +  \\\n",
    "                    '&ww_i_reportModelXsl=133685270&ww_x_UNITE_ACAD='+ UNITE_ACAD + '&ww_x_PERIODE_ACAD=' + PERIODE_ACAD + \\\n",
    "                    '&ww_x_PERIODE_PEDAGO=' + PERIODE_PEDAGO + '&ww_x_HIVERETE=null'\n",
    "\n",
    "            #print(url)\n",
    "            #\"\"\"\n",
    "            r = requests.get(url)\n",
    "            soup = BeautifulSoup(r.text,'html.parser')\n",
    "            #print(soup.prettify())\n",
    "\n",
    "\n",
    "            sex = [s.text for s in soup.find_all('td')[0::12]]\n",
    "            #names = [n.text for n in soup.find_all('td')[1::12]]\n",
    "            #name = [re.sub('\\xa0', '', n) for n in names]\n",
    "            sciper = [s.text for s in soup.find_all('td')[10::12]]\n",
    "            special = [s.text for s in soup.find_all('td')[4::12]]\n",
    "            minor = [s.text for s in soup.find_all('td')[6::12]]\n",
    "            y = [start_year[year_idx]]*len(sciper)\n",
    "            s = [sem_num[sem_idx]]*len(sciper)\n",
    "            master_data = master_data.append(pd.DataFrame({'sciper':sciper,'sex':sex,'specail':special,'minor':minor, 'start_year':y,'semester':s}))\n",
    "        \n",
    "        sem_idx+=1\n",
    "\n",
    "    year_idx+=1"
   ]
  },
  {
   "cell_type": "markdown",
   "metadata": {},
   "source": [
    "The total number of entries in Masters Students data is 2488 (students in 2nd and 3rd semester in 2007 and 2nd semester in 2008 are not included, since 1st semester data is unavailable). <br>\n",
    "\n",
    "The entries are grouped by 'sciper' and the histogram of the time spent(in months) by all the students is as shown below."
   ]
  },
  {
   "cell_type": "code",
<<<<<<< HEAD
   "execution_count": 279,
=======
   "execution_count": 79,
>>>>>>> master
   "metadata": {
    "collapsed": false
   },
   "outputs": [
    {
     "data": {
      "text/plain": [
<<<<<<< HEAD
       "<matplotlib.axes._subplots.AxesSubplot at 0x11eaf7668>"
      ]
     },
     "execution_count": 279,
=======
       "<matplotlib.axes._subplots.AxesSubplot at 0x116485780>"
      ]
     },
     "execution_count": 79,
>>>>>>> master
     "metadata": {},
     "output_type": "execute_result"
    },
    {
     "data": {
<<<<<<< HEAD
      "image/png": "iVBORw0KGgoAAAANSUhEUgAAAXoAAAEACAYAAAC9Gb03AAAABHNCSVQICAgIfAhkiAAAAAlwSFlz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\nsRr37ouIhwAAAABJRU5ErkJggg==\n",
      "text/plain": [
       "<matplotlib.figure.Figure at 0x11eebd518>"
=======
      "image/png": "iVBORw0KGgoAAAANSUhEUgAAAXoAAAEACAYAAAC9Gb03AAAABHNCSVQICAgIfAhkiAAAAAlwSFlz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\nrHAe9GZmhfOgNzMrnAe9mVnh/h+39VDapaEyPQAAAABJRU5ErkJggg==\n",
      "text/plain": [
       "<matplotlib.figure.Figure at 0x116482e48>"
>>>>>>> master
      ]
     },
     "metadata": {},
     "output_type": "display_data"
    }
   ],
   "source": [
<<<<<<< HEAD
    "master_data['sciper'].groupby(master_data['sciper']).apply(lambda x: x.count()*6).hist(bins=[6, 12, 18, 24, 30, 36, 42])"
=======
    "#master_data = pd.read_csv('master_data_sciper.csv')\n",
    "master_data = master_data.groupby('sciper').filter(lambda x: (x['semester'].count()>1) or (sum(x['semester'].isin(['1.0', '2.0']))>=2))\n",
    "master_data['sciper'].groupby(master_data['sciper']).apply(lambda x: x.count()*6).hist(rwidth=0.1,align='mid')"
>>>>>>> master
   ]
  },
  {
   "cell_type": "markdown",
   "metadata": {},
   "source": [
<<<<<<< HEAD
    "The time spent by the students can be computed by grouping the entries by 'sciper' and counting the number of semesters for each student. The average time spent is 18.87 months."
=======
    "The time spent by the students can be computed by grouping the entries by 'sciper' and counting the number of semesters for each student. The average time spent is <b>20.48</b> months."
>>>>>>> master
   ]
  },
  {
   "cell_type": "code",
<<<<<<< HEAD
   "execution_count": 418,
=======
   "execution_count": 71,
>>>>>>> master
   "metadata": {
    "collapsed": false
   },
   "outputs": [
    {
     "data": {
      "text/plain": [
<<<<<<< HEAD
       "18.872313527180783"
      ]
     },
     "execution_count": 418,
=======
       "20.483641536273115"
      ]
     },
     "execution_count": 71,
>>>>>>> master
     "metadata": {},
     "output_type": "execute_result"
    }
   ],
   "source": [
    "duration_months = pd.DataFrame({'average_stay': master_data['sciper'].groupby(master_data['sciper']).apply(lambda x: x.count()*6)})\n",
    "average_stay_all = np.mean(master_data_duration['average_stay'])\n",
    "average_stay_all"
   ]
  },
  {
   "cell_type": "code",
<<<<<<< HEAD
   "execution_count": 421,
=======
   "execution_count": 74,
>>>>>>> master
   "metadata": {
    "collapsed": false
   },
   "outputs": [
    {
     "data": {
      "text/html": [
       "<div>\n",
       "<table border=\"1\" class=\"dataframe\">\n",
       "  <thead>\n",
       "    <tr style=\"text-align: right;\">\n",
       "      <th></th>\n",
       "      <th>sex</th>\n",
       "      <th>average_stay</th>\n",
       "    </tr>\n",
       "    <tr>\n",
       "      <th>sciper</th>\n",
       "      <th></th>\n",
       "      <th></th>\n",
       "    </tr>\n",
       "  </thead>\n",
       "  <tbody>\n",
       "    <tr>\n",
<<<<<<< HEAD
       "      <th>138088</th>\n",
       "      <td>Monsieur</td>\n",
       "      <td>6</td>\n",
       "    </tr>\n",
       "    <tr>\n",
       "      <th>146330</th>\n",
       "      <td>Monsieur</td>\n",
       "      <td>6</td>\n",
       "    </tr>\n",
       "    <tr>\n",
       "      <th>146742</th>\n",
       "      <td>Monsieur</td>\n",
       "      <td>42</td>\n",
       "    </tr>\n",
       "    <tr>\n",
       "      <th>146929</th>\n",
       "      <td>Monsieur</td>\n",
       "      <td>6</td>\n",
       "    </tr>\n",
       "    <tr>\n",
       "      <th>147008</th>\n",
=======
       "      <th>146742</th>\n",
       "      <td>Monsieur</td>\n",
       "      <td>42</td>\n",
       "    </tr>\n",
       "    <tr>\n",
       "      <th>147008</th>\n",
       "      <td>Monsieur</td>\n",
       "      <td>24</td>\n",
       "    </tr>\n",
       "    <tr>\n",
       "      <th>153066</th>\n",
       "      <td>Monsieur</td>\n",
       "      <td>24</td>\n",
       "    </tr>\n",
       "    <tr>\n",
       "      <th>153746</th>\n",
       "      <td>Monsieur</td>\n",
       "      <td>12</td>\n",
       "    </tr>\n",
       "    <tr>\n",
       "      <th>153762</th>\n",
>>>>>>> master
       "      <td>Monsieur</td>\n",
       "      <td>24</td>\n",
       "    </tr>\n",
       "  </tbody>\n",
       "</table>\n",
       "</div>"
      ],
      "text/plain": [
       "             sex  average_stay\n",
       "sciper                        \n",
<<<<<<< HEAD
       "138088  Monsieur             6\n",
       "146330  Monsieur             6\n",
       "146742  Monsieur            42\n",
       "146929  Monsieur             6\n",
       "147008  Monsieur            24"
      ]
     },
     "execution_count": 421,
=======
       "146742  Monsieur            42\n",
       "147008  Monsieur            24\n",
       "153066  Monsieur            24\n",
       "153746  Monsieur            12\n",
       "153762  Monsieur            24"
      ]
     },
     "execution_count": 74,
>>>>>>> master
     "metadata": {},
     "output_type": "execute_result"
    }
   ],
   "source": [
    "## Concatenate the duration computed with other data for each student\n",
    "master_data_unique = master_data.sort_values(['sciper','semester'])[['sciper','sex']].drop_duplicates()\n",
    "master_data_unique = master_data_unique.set_index('sciper')\n",
    "master_data_duration = pd.concat([master_data_unique, duration_months], axis=1)\n",
    "master_data_duration.head()"
   ]
  },
  {
   "cell_type": "markdown",
   "metadata": {},
   "source": [
    "Next, only those students who had taken specialisation are selected. There are 231 such students. But 5 of those students had multiple specialisations. These entries are considered as outliers and are removed before further processing. This should not affect the overall results since the number of students with such multiple specialisations is only 5."
   ]
  },
  {
   "cell_type": "code",
<<<<<<< HEAD
   "execution_count": 422,
=======
   "execution_count": 63,
>>>>>>> master
   "metadata": {
    "collapsed": false
   },
   "outputs": [
    {
     "data": {
      "text/html": [
       "<div>\n",
       "<table border=\"1\" class=\"dataframe\">\n",
       "  <thead>\n",
       "    <tr style=\"text-align: right;\">\n",
       "      <th></th>\n",
       "      <th>sex</th>\n",
       "      <th>specail</th>\n",
       "    </tr>\n",
       "    <tr>\n",
       "      <th>sciper</th>\n",
       "      <th></th>\n",
       "      <th></th>\n",
       "    </tr>\n",
       "  </thead>\n",
       "  <tbody>\n",
       "    <tr>\n",
       "      <th>146742</th>\n",
       "      <td>Monsieur</td>\n",
       "      <td>Signals, Images and Interfaces</td>\n",
       "    </tr>\n",
       "    <tr>\n",
       "      <th>147008</th>\n",
       "      <td>Monsieur</td>\n",
       "      <td>Signals, Images and Interfaces</td>\n",
       "    </tr>\n",
       "    <tr>\n",
       "      <th>153066</th>\n",
       "      <td>Monsieur</td>\n",
       "      <td>Internet computing</td>\n",
       "    </tr>\n",
       "    <tr>\n",
       "      <th>154080</th>\n",
       "      <td>Monsieur</td>\n",
       "      <td>Internet computing</td>\n",
       "    </tr>\n",
       "    <tr>\n",
       "      <th>154573</th>\n",
       "      <td>Madame</td>\n",
       "      <td>Biocomputing</td>\n",
       "    </tr>\n",
       "  </tbody>\n",
       "</table>\n",
       "</div>"
      ],
      "text/plain": [
       "             sex                         specail\n",
       "sciper                                          \n",
       "146742  Monsieur  Signals, Images and Interfaces\n",
       "147008  Monsieur  Signals, Images and Interfaces\n",
       "153066  Monsieur              Internet computing\n",
       "154080  Monsieur              Internet computing\n",
       "154573    Madame                    Biocomputing"
      ]
     },
<<<<<<< HEAD
     "execution_count": 422,
=======
     "execution_count": 63,
>>>>>>> master
     "metadata": {},
     "output_type": "execute_result"
    }
   ],
   "source": [
    "## Select only those students with specialisation\n",
    "master_data_special = master_data[master_data['specail'] != '']\n",
    "master_data_special = master_data_special.sort_values(['sciper'])[['sciper','sex','specail']].drop_duplicates()\n",
    "\n",
    "## Remove students with multiple specialisations\n",
    "master_data_special = master_data_special.groupby('sciper').filter(lambda x: x['sciper'].count()==1)\n",
    "master_data_special = master_data_special.set_index('sciper')\n",
    "master_data_special.head()"
   ]
  },
  {
   "cell_type": "code",
<<<<<<< HEAD
   "execution_count": 423,
=======
   "execution_count": 64,
>>>>>>> master
   "metadata": {
    "collapsed": false
   },
   "outputs": [
    {
     "data": {
      "text/html": [
       "<div>\n",
       "<table border=\"1\" class=\"dataframe\">\n",
       "  <thead>\n",
       "    <tr style=\"text-align: right;\">\n",
       "      <th></th>\n",
       "      <th>sex</th>\n",
       "      <th>duration</th>\n",
       "      <th>sex</th>\n",
       "      <th>special</th>\n",
       "    </tr>\n",
       "    <tr>\n",
       "      <th>sciper</th>\n",
       "      <th></th>\n",
       "      <th></th>\n",
       "      <th></th>\n",
       "      <th></th>\n",
       "    </tr>\n",
       "  </thead>\n",
       "  <tbody>\n",
       "    <tr>\n",
       "      <th>146742</th>\n",
       "      <td>Monsieur</td>\n",
       "      <td>42</td>\n",
       "      <td>Monsieur</td>\n",
       "      <td>Signals, Images and Interfaces</td>\n",
       "    </tr>\n",
       "    <tr>\n",
       "      <th>147008</th>\n",
       "      <td>Monsieur</td>\n",
       "      <td>24</td>\n",
       "      <td>Monsieur</td>\n",
       "      <td>Signals, Images and Interfaces</td>\n",
       "    </tr>\n",
       "    <tr>\n",
       "      <th>153066</th>\n",
       "      <td>Monsieur</td>\n",
       "      <td>24</td>\n",
       "      <td>Monsieur</td>\n",
       "      <td>Internet computing</td>\n",
       "    </tr>\n",
       "    <tr>\n",
       "      <th>154080</th>\n",
       "      <td>Monsieur</td>\n",
       "      <td>18</td>\n",
       "      <td>Monsieur</td>\n",
       "      <td>Internet computing</td>\n",
       "    </tr>\n",
       "    <tr>\n",
       "      <th>154573</th>\n",
       "      <td>Madame</td>\n",
       "      <td>24</td>\n",
       "      <td>Madame</td>\n",
       "      <td>Biocomputing</td>\n",
       "    </tr>\n",
       "  </tbody>\n",
       "</table>\n",
       "</div>"
      ],
      "text/plain": [
       "             sex  duration       sex                         special\n",
       "sciper                                                              \n",
       "146742  Monsieur        42  Monsieur  Signals, Images and Interfaces\n",
       "147008  Monsieur        24  Monsieur  Signals, Images and Interfaces\n",
       "153066  Monsieur        24  Monsieur              Internet computing\n",
       "154080  Monsieur        18  Monsieur              Internet computing\n",
       "154573    Madame        24    Madame                    Biocomputing"
      ]
     },
<<<<<<< HEAD
     "execution_count": 423,
=======
     "execution_count": 64,
>>>>>>> master
     "metadata": {},
     "output_type": "execute_result"
    }
   ],
   "source": [
    "## Concatenate the duration and list of students with specialisation\n",
    "master_data_final = pd.concat([master_data_duration, master_data_special], axis=1, join='inner')\n",
    "master_data_final = master_data_final.rename(columns={\"average_stay\":\"duration\",\"specail\":\"special\"})\n",
    "master_data_final.head()"
   ]
  },
  {
   "cell_type": "markdown",
   "metadata": {},
   "source": [
    "The number of students with each specialisation is shown below. It is to be noted that the number of students for few specialisations are very less and therefore it is not possible to draw any conclusions for such specialisations."
   ]
  },
  {
   "cell_type": "code",
<<<<<<< HEAD
   "execution_count": 425,
=======
   "execution_count": 65,
>>>>>>> master
   "metadata": {
    "collapsed": false
   },
   "outputs": [
    {
     "data": {
      "text/plain": [
       "special\n",
<<<<<<< HEAD
       "Biocomputing                       4\n",
       "Computer Engineering - SP         19\n",
       "Computer Science Theory            1\n",
       "Data Analytics                     5\n",
       "Foundations of Software           54\n",
       "Information Security - SP          7\n",
       "Internet Information Systems       1\n",
       "Internet computing                84\n",
=======
       "Biocomputing                       3\n",
       "Computer Engineering - SP         19\n",
       "Computer Science Theory            1\n",
       "Data Analytics                     4\n",
       "Foundations of Software           52\n",
       "Information Security - SP          7\n",
       "Internet Information Systems       1\n",
       "Internet computing                81\n",
>>>>>>> master
       "Service science                    3\n",
       "Signals, Images and Interfaces    27\n",
       "Software Systems                  16\n",
       "dtype: int64"
      ]
     },
<<<<<<< HEAD
     "execution_count": 425,
=======
     "execution_count": 65,
>>>>>>> master
     "metadata": {},
     "output_type": "execute_result"
    }
   ],
   "source": [
    "master_data_final.groupby('special').apply(lambda x: x['special'].count())"
   ]
  },
  {
   "cell_type": "markdown",
   "metadata": {},
   "source": [
    "The average time spent (in months) for each specialisation is then computed. The \"average_stay\" at EPFL for all the students was earlier determined as 18.87. "
   ]
  },
  {
   "cell_type": "code",
<<<<<<< HEAD
   "execution_count": 428,
=======
   "execution_count": 66,
>>>>>>> master
   "metadata": {
    "collapsed": false
   },
   "outputs": [
    {
     "data": {
      "text/plain": [
       "special\n",
<<<<<<< HEAD
       "Biocomputing                      16.500\n",
       "Computer Engineering - SP         22.421\n",
       "Computer Science Theory           18.000\n",
       "Data Analytics                    14.400\n",
       "Foundations of Software           23.778\n",
       "Information Security - SP         21.429\n",
       "Internet Information Systems      18.000\n",
       "Internet computing                22.429\n",
=======
       "Biocomputing                      20.000\n",
       "Computer Engineering - SP         22.421\n",
       "Computer Science Theory           18.000\n",
       "Data Analytics                    16.500\n",
       "Foundations of Software           24.462\n",
       "Information Security - SP         21.429\n",
       "Internet Information Systems      18.000\n",
       "Internet computing                23.037\n",
>>>>>>> master
       "Service science                   22.000\n",
       "Signals, Images and Interfaces    25.333\n",
       "Software Systems                  21.000\n",
       "dtype: float64"
      ]
     },
<<<<<<< HEAD
     "execution_count": 428,
=======
     "execution_count": 66,
>>>>>>> master
     "metadata": {},
     "output_type": "execute_result"
    }
   ],
   "source": [
    "master_data_final.groupby('special').apply(lambda x: np.mean(x['duration'])).round(3)"
   ]
  },
  {
   "cell_type": "markdown",
   "metadata": {},
   "source": [
    "Finally we can determine if the above results are statistically significant. We have a population (with all the students) and the sample (students with each specialisation). <br> \n",
    "Null Hypothesis: The mean time spent by sample (specialisation) and the population (overall) is same. <br>\n",
    "The samples are normally distributed and thereby one-sample t-test would be appropriate."
   ]
  },
  {
   "cell_type": "code",
<<<<<<< HEAD
   "execution_count": 405,
=======
   "execution_count": 67,
>>>>>>> master
   "metadata": {
    "collapsed": false,
    "scrolled": true
   },
   "outputs": [
    {
     "name": "stdout",
     "output_type": "stream",
     "text": [
      "Signals, Images and Interfaces\n",
<<<<<<< HEAD
      "Ttest_1sampResult(statistic=4.3679134130383908, pvalue=0.00017818153176245985)\n",
      "Internet computing\n",
      "Ttest_1sampResult(statistic=4.7136229229028261, pvalue=9.6910213002374536e-06)\n",
      "Biocomputing\n",
      "Ttest_1sampResult(statistic=-0.62844120557080996, pvalue=0.57430426386649391)\n",
      "Foundations of Software\n",
      "Ttest_1sampResult(statistic=5.0195944558059935, pvalue=6.1979277951052156e-06)\n",
      "Service science\n",
      "Ttest_1sampResult(statistic=0.78192161820480433, pvalue=0.51613255572659578)\n",
      "Computer Engineering - SP\n",
      "Ttest_1sampResult(statistic=2.9568275854438131, pvalue=0.0084407815488575476)\n",
      "Software Systems\n",
      "Ttest_1sampResult(statistic=1.9423031274361464, pvalue=0.071118172773421959)\n",
      "Information Security - SP\n",
      "Ttest_1sampResult(statistic=1.1550401660813268, pvalue=0.29199198989675895)\n",
      "Data Analytics\n",
      "Ttest_1sampResult(statistic=-1.8634639696586595, pvalue=0.13585461989456588)\n",
=======
      "Ttest_1sampResult(statistic=3.2785898333433208, pvalue=0.0029629479009765656)\n",
      "Internet computing\n",
      "Ttest_1sampResult(statistic=3.674603811838911, pvalue=0.00042924603805738541)\n",
      "Biocomputing\n",
      "Ttest_1sampResult(statistic=-0.24182076813655762, pvalue=0.83145318234702181)\n",
      "Foundations of Software\n",
      "Ttest_1sampResult(statistic=4.4950039684919298, pvalue=4.0256819615678443e-05)\n",
      "Service science\n",
      "Ttest_1sampResult(statistic=0.37908961593172119, pvalue=0.74108394626714125)\n",
      "Computer Engineering - SP\n",
      "Ttest_1sampResult(statistic=1.6142608409407764, pvalue=0.12386380021634694)\n",
      "Software Systems\n",
      "Ttest_1sampResult(statistic=0.47136863056987982, pvalue=0.64416024768035984)\n",
      "Information Security - SP\n",
      "Ttest_1sampResult(statistic=0.4269647358905751, pvalue=0.68430125752219517)\n",
      "Data Analytics\n",
      "Ttest_1sampResult(statistic=-2.6557610241820768, pvalue=0.076615546222798259)\n",
>>>>>>> master
      "Internet Information Systems\n",
      "Ttest_1sampResult(statistic=nan, pvalue=nan)\n",
      "Computer Science Theory\n",
      "Ttest_1sampResult(statistic=nan, pvalue=nan)\n"
     ]
    },
    {
     "name": "stderr",
     "output_type": "stream",
     "text": [
      "/Users/nesara/anaconda/lib/python3.5/site-packages/numpy/core/_methods.py:82: RuntimeWarning: Degrees of freedom <= 0 for slice\n",
      "  warnings.warn(\"Degrees of freedom <= 0 for slice\", RuntimeWarning)\n"
     ]
    }
   ],
   "source": [
    "count=0\n",
    "for sp in master_data_final['special'].unique():\n",
    "    print(sp)\n",
    "    tmp = master_data_final[master_data_final['special']==sp]\n",
    "    print(stats.ttest_1samp(a= tmp['duration'], popmean= average_stay_all))\n",
    "    \n",
    "    ## Compare histograms of population and sample for each specialisation\n",
    "    #fig = plt.figure()\n",
    "    #ax = fig.add_subplot(111)\n",
    "    #_ = ax.hist(duration_months['average_stay'].tolist())\n",
    "    #_ = ax.hist(tmp['duration'].tolist(), color='red', alpha=.3)\n",
    "    count+=1"
   ]
  },
  {
   "cell_type": "markdown",
   "metadata": {},
   "source": [
    "### Conclusion for Master students data:"
   ]
  },
  {
   "cell_type": "markdown",
   "metadata": {},
   "source": [
    "Considering a confidence interval of 95%, the p-values for the following specialisations are less than 0.05. <br>\n",
    "<ul>\n",
    "<li>Signals, Images and Interfaces </li>\n",
    "<li>Internet computing</li>\n",
    "<li>Foundations of Software</li>\n",
<<<<<<< HEAD
    "<li>Computer Engineering - SP</li> <br>\n",
    "Based on this, we can reject the null hypothesis for the above specialisations and conclude that the average time spent by students with these specialisations is more than the overall average stay and that these results are statistically significant."
   ]
=======
    "\n",
    "Based on this, we can reject the null hypothesis for the above specialisations and conclude that the average time spent by students with these specialisations is more than the overall average stay and that these results are statistically significant."
   ]
  },
  {
   "cell_type": "markdown",
   "metadata": {},
   "source": [
    "### Bonus question"
   ]
  },
  {
   "cell_type": "markdown",
   "metadata": {},
   "source": [
    "From the plot it appears that number of new male students each year has increased steadily whereas the female student didn't change significantly. Also in 2010-2011 spike in number of new male student is seen."
   ]
  },
  {
   "cell_type": "code",
   "execution_count": 78,
   "metadata": {
    "collapsed": false
   },
   "outputs": [
    {
     "name": "stdout",
     "output_type": "stream",
     "text": [
      "New Female Student each Year\n",
      "start_year\n",
      "2007-2008    10\n",
      "2008-2009     6\n",
      "2009-2010     4\n",
      "2010-2011    13\n",
      "2011-2012    19\n",
      "2012-2013    15\n",
      "2013-2014    15\n",
      "2014-2015    12\n",
      "2015-2016    16\n",
      "dtype: int64\n",
      "New Male Student each Year\n",
      "start_year\n",
      "2007-2008     61\n",
      "2008-2009     54\n",
      "2009-2010     48\n",
      "2010-2011     83\n",
      "2011-2012     83\n",
      "2012-2013     73\n",
      "2013-2014     89\n",
      "2014-2015     92\n",
      "2015-2016    116\n",
      "dtype: int64\n"
     ]
    },
    {
     "data": {
      "image/png": "iVBORw0KGgoAAAANSUhEUgAAAXYAAAEACAYAAACnJV25AAAABHNCSVQICAgIfAhkiAAAAAlwSFlz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\n",
      "text/plain": [
       "<matplotlib.figure.Figure at 0x11d5d2c18>"
      ]
     },
     "metadata": {},
     "output_type": "display_data"
    }
   ],
   "source": [
    "\n",
    "with open('master_data','rb') as file:\n",
    "    master_data1 = pickle.load(file)\n",
    "\n",
    "#master_data.index = master_data['sciper']\n",
    "tf=master_data1.groupby(['semester','sex','start_year']).apply(lambda x: len(x))\n",
    "\n",
    "fig, ax = plt.subplots()\n",
    "fig.canvas.draw()\n",
    "\n",
    "tg = tf.loc['Master semestre 1','Madame']\n",
    "print('New Female Student each Year')\n",
    "print(tg)\n",
    "women = plt.scatter([ind for ind, val in enumerate(tg.index)],tg.values,c='r',marker='+',label='Female')\n",
    "labels = [item.get_text() for item in ax.get_xticklabels()]\n",
    "\n",
    "\n",
    "tg = tf.loc['Master semestre 1','Monsieur']\n",
    "print('New Male Student each Year')\n",
    "print(tg)\n",
    "plt.scatter([ind for ind, val in enumerate(tg.index)],tg.values,c='b',marker='o',label='Male')\n",
    "plt.xticks(list(range(0,len(tg.index),2)))\n",
    "labels = tg.index.values[list(range(0,len(tg.index),2))]\n",
    "ax.set_xticklabels(labels)\n",
    "\n",
    "plt.legend(loc='upper left');"
   ]
  },
  {
   "cell_type": "code",
   "execution_count": null,
   "metadata": {
    "collapsed": true
   },
   "outputs": [],
   "source": []
>>>>>>> master
  }
 ],
 "metadata": {
  "anaconda-cloud": {},
  "kernelspec": {
<<<<<<< HEAD
   "display_name": "Python [conda env:python35]",
   "language": "python",
   "name": "conda-env-python35-py"
=======
   "display_name": "Python [conda root]",
   "language": "python",
   "name": "conda-root-py"
>>>>>>> master
  },
  "language_info": {
   "codemirror_mode": {
    "name": "ipython",
    "version": 3
   },
   "file_extension": ".py",
   "mimetype": "text/x-python",
   "name": "python",
   "nbconvert_exporter": "python",
   "pygments_lexer": "ipython3",
   "version": "3.5.2"
  }
 },
 "nbformat": 4,
 "nbformat_minor": 0
}
